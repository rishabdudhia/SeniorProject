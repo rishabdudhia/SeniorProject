{
 "cells": [
  {
   "cell_type": "code",
   "execution_count": 1,
   "id": "205591fd",
   "metadata": {},
   "outputs": [],
   "source": [
    "from flask import Flask, render_template\n",
    "import pandas as pd\n",
    "import numpy as np\n",
    "from queue import PriorityQueue"
   ]
  },
  {
   "cell_type": "code",
   "execution_count": 2,
   "id": "f6987b51",
   "metadata": {},
   "outputs": [],
   "source": [
    "manifest_name = \"SS TEST SHIP\"\n",
    "employee_name = \"John Doe\"\n",
    "shipCase = 3\n",
    "\n",
    "nrows=8\n",
    "ncols=12"
   ]
  },
  {
   "cell_type": "code",
   "execution_count": 3,
   "id": "3d60c492",
   "metadata": {},
   "outputs": [],
   "source": [
    "testManifest = ( pd.read_csv('./ship_cases/ShipCase'+str(shipCase)+'.txt',header=None,names=[\"col\",\"row\",\"weight\",\"cont\"]) )\n",
    "testManifest['col'] = testManifest['col'].str.replace(\"\\[| \",\"\", regex=True)\n",
    "testManifest['row'] = testManifest['row'].str.replace(\"\\]| \",\"\", regex=True)\n",
    "testManifest['weight'] = testManifest['weight'].str.replace(\"{|}| \",\"\", regex=True)\n",
    "testManifest['cont'] = (testManifest['cont'].str[1:])"
   ]
  },
  {
   "cell_type": "code",
   "execution_count": 4,
   "id": "acca0efa",
   "metadata": {},
   "outputs": [],
   "source": [
    "#creating 2d np array for ship\n",
    "testManifestArray = np.array(testManifest.loc[:]).reshape(nrows,ncols,4)"
   ]
  },
  {
   "cell_type": "code",
   "execution_count": 5,
   "id": "8150f7d2",
   "metadata": {},
   "outputs": [],
   "source": [
    "#creating 2d np array for buffer\n",
    "testBuffer = np.zeros(4*24).reshape(4,24)"
   ]
  },
  {
   "cell_type": "markdown",
   "id": "66dc7f90",
   "metadata": {},
   "source": [
    "####"
   ]
  },
  {
   "cell_type": "code",
   "execution_count": 6,
   "id": "3442e769",
   "metadata": {},
   "outputs": [],
   "source": [
    "def printState(array):\n",
    "    for j in range(7,-1,-1):\n",
    "        print(\"\")\n",
    "        for i in array[j]:\n",
    "            if(i[3]==\"UNUSED\"):\n",
    "                print(\"[  ]\", end=\"\\t\")\n",
    "            else:\n",
    "                print(i[3], end=\"\\t\")\n",
    "#printState(testManifestArray)"
   ]
  },
  {
   "cell_type": "code",
   "execution_count": 7,
   "id": "ccda13c0",
   "metadata": {},
   "outputs": [
    {
     "name": "stdout",
     "output_type": "stream",
     "text": [
      "\n",
      "[  ]\t[  ]\t[  ]\t[  ]\t[  ]\t[  ]\t[  ]\t[  ]\t[  ]\t[  ]\t[  ]\t[  ]\t\n",
      "[  ]\t[  ]\t[  ]\t[  ]\t[  ]\t[  ]\t[  ]\t[  ]\t[  ]\t[  ]\t[  ]\t[  ]\t\n",
      "[  ]\t[  ]\t[  ]\t[  ]\t[  ]\t[  ]\t[  ]\t[  ]\t[  ]\t[  ]\t[  ]\t[  ]\t\n",
      "[  ]\t[  ]\t[  ]\t[  ]\t[  ]\t[  ]\t[  ]\t[  ]\t[  ]\t[  ]\t[  ]\t[  ]\t\n",
      "[  ]\t[  ]\t[  ]\t[  ]\t[  ]\t[  ]\t[  ]\t[  ]\t[  ]\t[  ]\t[  ]\t[  ]\t\n",
      "[  ]\t[  ]\t[  ]\t[  ]\t[  ]\t[  ]\t[  ]\t[  ]\t[  ]\t[  ]\t[  ]\t[  ]\t\n",
      "Cat\tDoe\t[  ]\t[  ]\t[  ]\t[  ]\t[  ]\t[  ]\t[  ]\t[  ]\t[  ]\t[  ]\t\n",
      "Ewe\tCow\tDog\tRat\t[  ]\t[  ]\t[  ]\t[  ]\t[  ]\t[  ]\t[  ]\t[  ]\t"
     ]
    }
   ],
   "source": [
    "printState(testManifestArray)"
   ]
  },
  {
   "cell_type": "markdown",
   "id": "770a964b",
   "metadata": {},
   "source": [
    "### Defining a State"
   ]
  },
  {
   "cell_type": "code",
   "execution_count": 8,
   "id": "d45010cd",
   "metadata": {},
   "outputs": [],
   "source": [
    "#Need Matrix of Ship Containers\n",
    "#Need Matrix of Buffer Zone\n",
    "#Need Col # the Crane is picking from\n",
    "class State:\n",
    "    def __init__(self, ship, topLayer=[], buffer=testBuffer):\n",
    "        self.ship = ship\n",
    "        self.buffer = buffer\n",
    "        self.topLayer = topLayer\n",
    "\n",
    "    def __str__(self):\n",
    "        printState(self.ship)\n",
    "        #return f\"\\n\\nPick Col: {self.colPos}\"\n",
    "        return \"\""
   ]
  },
  {
   "cell_type": "code",
   "execution_count": 9,
   "id": "bda446fa",
   "metadata": {},
   "outputs": [],
   "source": [
    "#decorator clas for use with branching\n",
    "class StateWrapper:\n",
    "    def __init__(self, state, colPick=-1, h=40, moves = 0, cost=0, movesList = [], load=[], unload=[]):\n",
    "        self.state = state\n",
    "        self.colPick = colPick\n",
    "        self.h = h\n",
    "        self.moves = moves\n",
    "        self.cost = cost\n",
    "        self.movesList = movesList #of the form [(x1,y1), (x2,y2)]\n",
    "        self.load = load\n",
    "        self.unload = unload\n",
    "\n",
    "    def __str__(self):\n",
    "        printState(self.state.ship)\n",
    "        t=\"\\n\\n\"\n",
    "        if self.colPick>0:\n",
    "            t=f\"\\n\\nPick Col: {self.colPick}\"\n",
    "        return t+f\"\\nh: {self.h}\\n# of Moves: {self.moves}\\nCost: {self.cost}\\nMovesList: {self.movesList}\\nLoad: {self.load}\\nunload: {self.unload}\"\n",
    "    \n",
    "    \n",
    "    "
   ]
  },
  {
   "cell_type": "code",
   "execution_count": 10,
   "id": "064cea29",
   "metadata": {},
   "outputs": [
    {
     "name": "stdout",
     "output_type": "stream",
     "text": [
      "\n",
      "[  ]\t[  ]\t[  ]\t[  ]\t[  ]\t[  ]\t[  ]\t[  ]\t[  ]\t[  ]\t[  ]\t[  ]\t\n",
      "[  ]\t[  ]\t[  ]\t[  ]\t[  ]\t[  ]\t[  ]\t[  ]\t[  ]\t[  ]\t[  ]\t[  ]\t\n",
      "[  ]\t[  ]\t[  ]\t[  ]\t[  ]\t[  ]\t[  ]\t[  ]\t[  ]\t[  ]\t[  ]\t[  ]\t\n",
      "[  ]\t[  ]\t[  ]\t[  ]\t[  ]\t[  ]\t[  ]\t[  ]\t[  ]\t[  ]\t[  ]\t[  ]\t\n",
      "[  ]\t[  ]\t[  ]\t[  ]\t[  ]\t[  ]\t[  ]\t[  ]\t[  ]\t[  ]\t[  ]\t[  ]\t\n",
      "[  ]\t[  ]\t[  ]\t[  ]\t[  ]\t[  ]\t[  ]\t[  ]\t[  ]\t[  ]\t[  ]\t[  ]\t\n",
      "Cat\tDoe\t[  ]\t[  ]\t[  ]\t[  ]\t[  ]\t[  ]\t[  ]\t[  ]\t[  ]\t[  ]\t\n",
      "Ewe\tCow\tDog\tRat\t[  ]\t[  ]\t[  ]\t[  ]\t[  ]\t[  ]\t[  ]\t[  ]\t\n",
      "\n",
      "Pick Col: 1\n",
      "h: 40\n",
      "# of Moves: 0\n",
      "Cost: 0\n",
      "MovesList: []\n",
      "Load: []\n",
      "unload: []\n"
     ]
    }
   ],
   "source": [
    "print(StateWrapper(State(testManifestArray), 1))"
   ]
  },
  {
   "cell_type": "markdown",
   "id": "1b76b364",
   "metadata": {},
   "source": [
    "### Branching Factor is 12 (number of col)"
   ]
  },
  {
   "cell_type": "code",
   "execution_count": 11,
   "id": "9ed55fcd",
   "metadata": {},
   "outputs": [],
   "source": [
    "#To branch we place our picked container (top most of selected col) on top of highest container of another col\n"
   ]
  },
  {
   "cell_type": "markdown",
   "id": "a34e92ba",
   "metadata": {},
   "source": [
    "#### Helper Function to find Highest Container in Stack"
   ]
  },
  {
   "cell_type": "code",
   "execution_count": 12,
   "id": "e8e5ff29",
   "metadata": {},
   "outputs": [],
   "source": [
    "def stackHeight(array, col, nrows=nrows):\n",
    "    for row in range(nrows-1,-1,-1):\n",
    "        if(array[row,col,3] != \"UNUSED\"):\n",
    "            return row\n",
    "    return(-1)\n",
    "    #-1 means no containers/blocked spaces in col"
   ]
  },
  {
   "cell_type": "code",
   "execution_count": 13,
   "id": "f001a60b",
   "metadata": {},
   "outputs": [
    {
     "name": "stdout",
     "output_type": "stream",
     "text": [
      "[['01' '05' '00000' 'UNUSED']\n",
      " ['02' '05' '00000' 'UNUSED']\n",
      " ['03' '05' '00000' 'UNUSED']\n",
      " ['04' '05' '00000' 'UNUSED']\n",
      " ['05' '05' '00000' 'UNUSED']\n",
      " ['06' '05' '00000' 'UNUSED']\n",
      " ['07' '05' '00000' 'UNUSED']\n",
      " ['08' '05' '00000' 'UNUSED']]\n"
     ]
    },
    {
     "data": {
      "text/plain": [
       "-1"
      ]
     },
     "execution_count": 13,
     "metadata": {},
     "output_type": "execute_result"
    }
   ],
   "source": [
    "testCol=4\n",
    "print(testManifestArray[:,testCol])\n",
    "stackHeight(testManifestArray,testCol)"
   ]
  },
  {
   "cell_type": "code",
   "execution_count": 14,
   "id": "d8cf4072",
   "metadata": {},
   "outputs": [
    {
     "data": {
      "text/plain": [
       "[2, 2, 1, 1, 0, 0, 0, 0, 0, 0, 0, 0]"
      ]
     },
     "execution_count": 14,
     "metadata": {},
     "output_type": "execute_result"
    }
   ],
   "source": [
    "def heights(array, cols=ncols):\n",
    "    h = []\n",
    "    for col in range(0,cols):\n",
    "        h.append(stackHeight(array,col) + 1)\n",
    "    return h\n",
    "\n",
    "heights(testManifestArray)"
   ]
  },
  {
   "cell_type": "markdown",
   "id": "8db99817",
   "metadata": {},
   "source": [
    "#### Helper function to find top layer"
   ]
  },
  {
   "cell_type": "code",
   "execution_count": 15,
   "id": "38c605e8",
   "metadata": {},
   "outputs": [],
   "source": [
    "def updateTop(array, cols=ncols):\n",
    "    top = []\n",
    "    for i in range(0,cols):\n",
    "        h = stackHeight(array,i)\n",
    "        if(h!=-1):\n",
    "#             top.append( np.append(array[h,i,2:4],h) )\n",
    "            top.append( (array[h,i]) )\n",
    "        else:\n",
    "#             top.append(np.array(['-99999','NONAME',h]))\n",
    "            top.append(np.array(['00','00','-99999','NONAME']))\n",
    "    return np.array(top)\n",
    "\n",
    "# tmp = StateWrapper(State(testManifestArray, topLayer=updateTop(testManifestArray)), 1)\n",
    "# print(tmp.state.topLayer)\n"
   ]
  },
  {
   "cell_type": "code",
   "execution_count": null,
   "id": "37df56b8",
   "metadata": {},
   "outputs": [],
   "source": []
  },
  {
   "cell_type": "code",
   "execution_count": 16,
   "id": "58053844",
   "metadata": {},
   "outputs": [],
   "source": [
    "def removeEmpty(array, pos = 3):\n",
    "    filterArray = ((array[:,:,pos] != 'UNUSED') == (array[:,:,pos] != 'NAN'))\n",
    "    return (array[filterArray])"
   ]
  },
  {
   "cell_type": "markdown",
   "id": "481bd7b6",
   "metadata": {},
   "source": [
    "#### Helper to find if can pick container"
   ]
  },
  {
   "cell_type": "code",
   "execution_count": 17,
   "id": "5157735a",
   "metadata": {},
   "outputs": [],
   "source": [
    "def pickable(array, col, nrows=nrows):\n",
    "    h = stackHeight(array,col,nrows)\n",
    "    if(array[h,col,3]==\"NAN\" or h==-1):\n",
    "        return False\n",
    "    return True"
   ]
  },
  {
   "cell_type": "markdown",
   "id": "dc08a6ca",
   "metadata": {},
   "source": [
    "#### Place container to new col"
   ]
  },
  {
   "cell_type": "code",
   "execution_count": 18,
   "id": "0c6453ef",
   "metadata": {},
   "outputs": [],
   "source": [
    "def moveContainer(array, col, newCol, unload=0):\n",
    "    if(col==newCol):\n",
    "        return -1\n",
    "    #find where to place container\n",
    "    h1 = stackHeight(array,col)\n",
    "    h2 = stackHeight(array,newCol) +1 \n",
    "        \n",
    "    newArray = array.copy()\n",
    "    if(unload == 0):\n",
    "        newArray[h2,newCol,2:4] = newArray[h1,col,2:4]  \n",
    "    newArray[h1,col,2:4] = ['00000','UNUSED']\n",
    "    \n",
    "    return newArray\n",
    "\n",
    "# print(State(testManifestArray))\n",
    "# print()\n",
    "# s1 = State(moveContainer(testManifestArray,4,0))\n",
    "# s2 = State(moveContainer((s1.ship),4,3))\n",
    "# s3 = State(moveContainer((s2.ship),4,5))\n",
    "\n",
    "# print(s1)\n",
    "# print(s2)\n"
   ]
  },
  {
   "cell_type": "markdown",
   "id": "f35f2230",
   "metadata": {},
   "source": [
    "#### Cost of Moving from col x to col y"
   ]
  },
  {
   "cell_type": "code",
   "execution_count": 19,
   "id": "a3a4b58d",
   "metadata": {},
   "outputs": [],
   "source": [
    "def costCol(array, curCol, newCol, empty=0, h1=-1, h2=-1):\n",
    "    hs = heights(array)    \n",
    "    \n",
    "    if(h1<0):\n",
    "        h1 = hs[curCol]\n",
    "    if(h2<0):\n",
    "        h2 = hs[newCol]\n",
    "    \n",
    "    #check if there exists in between area\n",
    "    localMax=h2\n",
    "    if(abs(curCol-newCol) > 1):\n",
    "        localMax = max(hs[min(curCol,newCol)+1:max(curCol,newCol)+1]) - empty\n",
    "    \n",
    "    if(h1>=localMax):\n",
    "        return 0 + abs(curCol-newCol) + abs(localMax-h2)\n",
    "    else:\n",
    "        return abs(localMax-h1) + abs(curCol-newCol) + abs(localMax-h2)\n",
    "    "
   ]
  },
  {
   "cell_type": "markdown",
   "id": "17f6bb4f",
   "metadata": {},
   "source": [
    "### Priority Queue Helper"
   ]
  },
  {
   "cell_type": "code",
   "execution_count": 20,
   "id": "d91bdd77",
   "metadata": {},
   "outputs": [],
   "source": [
    "#Code Chunk from official python priority queue page\n",
    "from dataclasses import dataclass, field\n",
    "from typing import Any\n",
    "\n",
    "@dataclass(order=True)\n",
    "class PrioritizedItem:\n",
    "    priority: int\n",
    "    cost: int\n",
    "    item: Any=field(compare=False)"
   ]
  },
  {
   "cell_type": "markdown",
   "id": "ee4c8671",
   "metadata": {},
   "source": [
    "## Load Unload Problem"
   ]
  },
  {
   "cell_type": "code",
   "execution_count": 21,
   "id": "2218a08e",
   "metadata": {},
   "outputs": [],
   "source": [
    "unload = []\n",
    "load = []\n",
    "\n",
    "#dummy data\n",
    "unloadIn = [(1, 1), (1, 0), (2, 1)]\n",
    "                    #dog        #cat\n",
    "    \n",
    "load = [['10000','first'],['20000','second'],['30000','third']]\n",
    "\n",
    "# print(testManifestArray)"
   ]
  },
  {
   "cell_type": "markdown",
   "id": "06be9a5e",
   "metadata": {},
   "source": [
    "#### Load Function"
   ]
  },
  {
   "cell_type": "code",
   "execution_count": 22,
   "id": "d1f093c6",
   "metadata": {},
   "outputs": [],
   "source": [
    "#"
   ]
  },
  {
   "cell_type": "markdown",
   "id": "debd64f6",
   "metadata": {},
   "source": [
    "#### Unload Function"
   ]
  },
  {
   "cell_type": "code",
   "execution_count": 23,
   "id": "8845a7de",
   "metadata": {},
   "outputs": [
    {
     "name": "stdout",
     "output_type": "stream",
     "text": [
      "[['10001' 'Ewe']\n",
      " ['09041' 'Cat']]\n",
      "[['10000', 'first'], ['20000', 'second'], ['30000', 'third']]\n"
     ]
    }
   ],
   "source": [
    "#when tracking moves, compensate coordinates +1 for dropoff location to match pick up\n",
    "    #**coordinates start at 1, not 0**\n",
    "comp = 1\n",
    "\n",
    "#initial state:\n",
    "initialState = StateWrapper(State(testManifestArray),h=0,load=load,unload=unload)\n",
    "\n",
    "unloadT = []\n",
    "\n",
    "for i in unloadIn:\n",
    "    unloadT.append(np.array(initialState.state.ship[i[0]-comp,i[1]-comp, 2:4]))\n",
    "unloadT = np.array(unloadT)\n",
    "unload = np.array(unloadT[(unloadT[:,1] != 'UNUSED') == (unloadT[:,1] != 'NAN')])\n",
    "\n",
    "print(unload)\n",
    "print(load)"
   ]
  },
  {
   "cell_type": "code",
   "execution_count": 30,
   "id": "2c409800",
   "metadata": {},
   "outputs": [
    {
     "name": "stdout",
     "output_type": "stream",
     "text": [
      "[0]\n"
     ]
    }
   ],
   "source": [
    "def unloadTop(state, unload, cols=ncols):\n",
    "    #Shows us cols of states to pick from which have exposed unload container\n",
    "    top = np.array((updateTop(state.state.ship, cols=cols)))\n",
    "    \n",
    "    filterTop = top[((top[:,3] != 'NONAME') == (top[:,3] != 'NAN'))]\n",
    "#     print(filterTop)\n",
    "    \n",
    "    unloadable = []\n",
    "    for i in filterTop:\n",
    "        for w in unload:\n",
    "            if((i[2:4]==w).all()):\n",
    "                unloadable.append(int(i[1])-1)\n",
    "    \n",
    "    return unloadable\n",
    "    \n",
    "t = unloadTop(initialState, unload)\n",
    "print(t)\n",
    "# print(State(initialState))\n",
    "# print(State(t))"
   ]
  },
  {
   "cell_type": "code",
   "execution_count": 25,
   "id": "6f520166",
   "metadata": {},
   "outputs": [
    {
     "name": "stdout",
     "output_type": "stream",
     "text": [
      "[2 0 0 0 0 0 0 0 0 0 0 0]\n",
      "1\n",
      "8\n"
     ]
    },
    {
     "data": {
      "text/plain": [
       "0"
      ]
     },
     "execution_count": 25,
     "metadata": {},
     "output_type": "execute_result"
    }
   ],
   "source": [
    "def countUnload(state, unload, cols=ncols):\n",
    "    array = (state.state.ship)\n",
    "    \n",
    "    unloadable=[]\n",
    "    for i in range(cols):\n",
    "        num = 0\n",
    "        for w in range(len(array[:,0])):\n",
    "            if (array[w,i,3] in unload):\n",
    "                num+=1\n",
    "        unloadable.append(num)\n",
    "    \n",
    "    return np.array(unloadable)\n",
    "    \n",
    "\n",
    "#find nearest col to load from lest\n",
    "def nearestLoad(unloadable):\n",
    "    #expecting np.array\n",
    "    for i in range(len(unloadable)):\n",
    "        if(unloadable[i]==0):\n",
    "            return i\n",
    "        \n",
    "x = countUnload(initialState, unload)\n",
    "print(x)\n",
    "\n",
    "print(nearestLoad(x))\n",
    "\n",
    "def distToPink(row,col):\n",
    "    return (nrows-row)+(col)\n",
    "\n",
    "print(distToPink(0,0))\n",
    "stackHeight(testManifestArray,3)"
   ]
  },
  {
   "cell_type": "code",
   "execution_count": 26,
   "id": "bb45088d",
   "metadata": {},
   "outputs": [],
   "source": [
    "def loadHeuristic(state):\n",
    "    load = state.load\n",
    "    unload = state.unload\n",
    "    return len(load)+len(unload)"
   ]
  },
  {
   "cell_type": "code",
   "execution_count": 38,
   "id": "cfad58bb",
   "metadata": {},
   "outputs": [
    {
     "name": "stdout",
     "output_type": "stream",
     "text": [
      "TWESTEDTGETSETG\t\t\t\n",
      " <class 'numpy.ndarray'>\n",
      "[UNLOADING] from col 0\n",
      "TWESTEDTGETSETG\t\t\t\n",
      " <class 'int'>\n"
     ]
    },
    {
     "ename": "TypeError",
     "evalue": "'int' object is not subscriptable",
     "output_type": "error",
     "traceback": [
      "\u001b[0;31m---------------------------------------------------------------------------\u001b[0m",
      "\u001b[0;31mTypeError\u001b[0m                                 Traceback (most recent call last)",
      "Input \u001b[0;32mIn [38]\u001b[0m, in \u001b[0;36m<cell line: 26>\u001b[0;34m()\u001b[0m\n\u001b[1;32m     28\u001b[0m \u001b[38;5;66;03m#At Each state we have 3 choices\u001b[39;00m\n\u001b[1;32m     29\u001b[0m     \u001b[38;5;66;03m#unload available container                           (high priority)\u001b[39;00m\n\u001b[1;32m     30\u001b[0m     \u001b[38;5;66;03m#load container from truck                            (high priority if crane empty)\u001b[39;00m\n\u001b[0;32m   (...)\u001b[0m\n\u001b[1;32m     35\u001b[0m \n\u001b[1;32m     36\u001b[0m \u001b[38;5;66;03m#first we find cols where there is a container we can pick right away\u001b[39;00m\n\u001b[1;32m     37\u001b[0m \u001b[38;5;28mprint\u001b[39m(\u001b[38;5;124m\"\u001b[39m\u001b[38;5;124mTWESTEDTGETSETG\u001b[39m\u001b[38;5;130;01m\\t\u001b[39;00m\u001b[38;5;130;01m\\t\u001b[39;00m\u001b[38;5;130;01m\\t\u001b[39;00m\u001b[38;5;130;01m\\n\u001b[39;00m\u001b[38;5;124m\"\u001b[39m, \u001b[38;5;28mtype\u001b[39m(currentState\u001b[38;5;241m.\u001b[39mstate\u001b[38;5;241m.\u001b[39mship))\n\u001b[0;32m---> 38\u001b[0m unloadable \u001b[38;5;241m=\u001b[39m \u001b[43munloadTop\u001b[49m\u001b[43m(\u001b[49m\u001b[43mcurrentState\u001b[49m\u001b[43m,\u001b[49m\u001b[43m \u001b[49m\u001b[43mcurrentState\u001b[49m\u001b[38;5;241;43m.\u001b[39;49m\u001b[43munload\u001b[49m\u001b[43m,\u001b[49m\u001b[43m \u001b[49m\u001b[43mcols\u001b[49m\u001b[38;5;241;43m=\u001b[39;49m\u001b[43mncols\u001b[49m\u001b[43m)\u001b[49m\n\u001b[1;32m     40\u001b[0m \u001b[38;5;66;03m#we can branch here by choosing to pick each one and calculating h()\u001b[39;00m\n\u001b[1;32m     41\u001b[0m \u001b[38;5;28;01mif\u001b[39;00m(\u001b[38;5;28mlen\u001b[39m(unloadable)\u001b[38;5;241m>\u001b[39m\u001b[38;5;241m0\u001b[39m):\n",
      "Input \u001b[0;32mIn [30]\u001b[0m, in \u001b[0;36munloadTop\u001b[0;34m(state, unload, cols)\u001b[0m\n\u001b[1;32m      1\u001b[0m \u001b[38;5;28;01mdef\u001b[39;00m \u001b[38;5;21munloadTop\u001b[39m(state, unload, cols\u001b[38;5;241m=\u001b[39mncols):\n\u001b[1;32m      2\u001b[0m     \u001b[38;5;66;03m#Shows us cols of states to pick from which have exposed unload container\u001b[39;00m\n\u001b[0;32m----> 3\u001b[0m     top \u001b[38;5;241m=\u001b[39m np\u001b[38;5;241m.\u001b[39marray((\u001b[43mupdateTop\u001b[49m\u001b[43m(\u001b[49m\u001b[43mstate\u001b[49m\u001b[38;5;241;43m.\u001b[39;49m\u001b[43mstate\u001b[49m\u001b[38;5;241;43m.\u001b[39;49m\u001b[43mship\u001b[49m\u001b[43m,\u001b[49m\u001b[43m \u001b[49m\u001b[43mcols\u001b[49m\u001b[38;5;241;43m=\u001b[39;49m\u001b[43mcols\u001b[49m\u001b[43m)\u001b[49m))\n\u001b[1;32m      5\u001b[0m     filterTop \u001b[38;5;241m=\u001b[39m top[((top[:,\u001b[38;5;241m3\u001b[39m] \u001b[38;5;241m!=\u001b[39m \u001b[38;5;124m'\u001b[39m\u001b[38;5;124mNONAME\u001b[39m\u001b[38;5;124m'\u001b[39m) \u001b[38;5;241m==\u001b[39m (top[:,\u001b[38;5;241m3\u001b[39m] \u001b[38;5;241m!=\u001b[39m \u001b[38;5;124m'\u001b[39m\u001b[38;5;124mNAN\u001b[39m\u001b[38;5;124m'\u001b[39m))]\n\u001b[1;32m      6\u001b[0m \u001b[38;5;66;03m#     print(filterTop)\u001b[39;00m\n",
      "Input \u001b[0;32mIn [15]\u001b[0m, in \u001b[0;36mupdateTop\u001b[0;34m(array, cols)\u001b[0m\n\u001b[1;32m      2\u001b[0m     top \u001b[38;5;241m=\u001b[39m []\n\u001b[1;32m      3\u001b[0m     \u001b[38;5;28;01mfor\u001b[39;00m i \u001b[38;5;129;01min\u001b[39;00m \u001b[38;5;28mrange\u001b[39m(\u001b[38;5;241m0\u001b[39m,cols):\n\u001b[0;32m----> 4\u001b[0m         h \u001b[38;5;241m=\u001b[39m \u001b[43mstackHeight\u001b[49m\u001b[43m(\u001b[49m\u001b[43marray\u001b[49m\u001b[43m,\u001b[49m\u001b[43mi\u001b[49m\u001b[43m)\u001b[49m\n\u001b[1;32m      5\u001b[0m         \u001b[38;5;28;01mif\u001b[39;00m(h\u001b[38;5;241m!=\u001b[39m\u001b[38;5;241m-\u001b[39m\u001b[38;5;241m1\u001b[39m):\n\u001b[1;32m      6\u001b[0m \u001b[38;5;66;03m#             top.append( np.append(array[h,i,2:4],h) )\u001b[39;00m\n\u001b[1;32m      7\u001b[0m             top\u001b[38;5;241m.\u001b[39mappend( (array[h,i]) )\n",
      "Input \u001b[0;32mIn [12]\u001b[0m, in \u001b[0;36mstackHeight\u001b[0;34m(array, col, nrows)\u001b[0m\n\u001b[1;32m      1\u001b[0m \u001b[38;5;28;01mdef\u001b[39;00m \u001b[38;5;21mstackHeight\u001b[39m(array, col, nrows\u001b[38;5;241m=\u001b[39mnrows):\n\u001b[1;32m      2\u001b[0m     \u001b[38;5;28;01mfor\u001b[39;00m row \u001b[38;5;129;01min\u001b[39;00m \u001b[38;5;28mrange\u001b[39m(nrows\u001b[38;5;241m-\u001b[39m\u001b[38;5;241m1\u001b[39m,\u001b[38;5;241m-\u001b[39m\u001b[38;5;241m1\u001b[39m,\u001b[38;5;241m-\u001b[39m\u001b[38;5;241m1\u001b[39m):\n\u001b[0;32m----> 3\u001b[0m         \u001b[38;5;28;01mif\u001b[39;00m(\u001b[43marray\u001b[49m\u001b[43m[\u001b[49m\u001b[43mrow\u001b[49m\u001b[43m,\u001b[49m\u001b[43mcol\u001b[49m\u001b[43m,\u001b[49m\u001b[38;5;241;43m3\u001b[39;49m\u001b[43m]\u001b[49m \u001b[38;5;241m!=\u001b[39m \u001b[38;5;124m\"\u001b[39m\u001b[38;5;124mUNUSED\u001b[39m\u001b[38;5;124m\"\u001b[39m):\n\u001b[1;32m      4\u001b[0m             \u001b[38;5;28;01mreturn\u001b[39;00m row\n\u001b[1;32m      5\u001b[0m     \u001b[38;5;28;01mreturn\u001b[39;00m(\u001b[38;5;241m-\u001b[39m\u001b[38;5;241m1\u001b[39m)\n",
      "\u001b[0;31mTypeError\u001b[0m: 'int' object is not subscriptable"
     ]
    }
   ],
   "source": [
    "old=100\n",
    "\n",
    "#initial state:\n",
    "initialState = StateWrapper(State(testManifestArray),h=0,load=load,unload=unload, colPick=0)\n",
    "\n",
    "\n",
    "#duplicate states checker\n",
    "duplicateState = []\n",
    "\n",
    "#legal final states\n",
    "finalState = []\n",
    "\n",
    "\n",
    "#Create PriorityQueue for queing states\n",
    "queueMain = PriorityQueue()\n",
    "queue = PriorityQueue()\n",
    "\n",
    "queueMain.put(PrioritizedItem(1, 1, initialState))\n",
    "            \n",
    "depth = 0\n",
    "minCost = 10000\n",
    "\n",
    "\n",
    "#using colPick attribute of class to show previous col\n",
    "\n",
    "while not queueMain.empty():\n",
    "    currentState=queueMain.get().item\n",
    "    #At Each state we have 3 choices\n",
    "        #unload available container                           (high priority)\n",
    "        #load container from truck                            (high priority if crane empty)\n",
    "        #move container on ship from on place to another      (low priority, only do if cant do prev 2)\n",
    "    \n",
    "    #1\n",
    "    #attempt to unload container\n",
    "    \n",
    "    #first we find cols where there is a container we can pick right away\n",
    "    print(\"TWESTEDTGETSETG\\t\\t\\t\\n\", type(currentState.state.ship))\n",
    "    unloadable = unloadTop(currentState, currentState.unload, cols=ncols)\n",
    "    \n",
    "    #we can branch here by choosing to pick each one and calculating h()\n",
    "    if(len(unloadable)>0):\n",
    "        ind=0\n",
    "        for i in unloadable:\n",
    "            \n",
    "            #unload item\n",
    "            removedShip = moveContainer(array=currentState.state.ship,col=i,newCol=0,unload=1)\n",
    "            #find row removed from to calc h\n",
    "            removedRow = stackHeight(currentState.state.ship,col=i)\n",
    "            #create new unloadlist\n",
    "            removedUnload = np.delete(currentState.unload,ind)\n",
    "#TODO ADD COST FROM PREV POS TO CUR\n",
    "            newRemovedState = StateWrapper(State(removedShip),cost=currentState.cost + distToPink(removedRow,i),movesList=currentState.movesList.copy(), load=currentState.load, unload=removedUnload, colPick=0)\n",
    "            newRemovedState.h = loadHeuristic(newRemovedState)\n",
    "            print(\"[UNLOADING] from col\",i)\n",
    "            if(newRemovedState not in duplicateState):\n",
    "                duplicateState.append(newRemovedState)\n",
    "                queueMain.put(PrioritizedItem(newRemovedState.h,newRemovedState.cost, newRemovedState))\n",
    "                \n",
    "            ind +=1\n",
    "    else:\n",
    "        print(\"Nothing available to unload\")\n",
    "\n",
    "\n",
    "#         #Stopping conditions\n",
    "\n",
    "        depth+=1\n",
    "        if((( depth>=1000 or len(finalState)>20) and len(finalState)!=0) or (queueMain.empty() and len(duplicateState)==old )):\n",
    "            print(\"Exited at depth\",depth, \" and \", len(finalState), \"final states\", old,\"=?\",len(duplicateState))\n",
    "            if(queueD.empty()):\n",
    "                print(\"No More states to branch from!\")\n",
    "            break\n",
    "        else:\n",
    "            old = len(duplicateState)"
   ]
  },
  {
   "cell_type": "code",
   "execution_count": 31,
   "id": "7790fb76",
   "metadata": {},
   "outputs": [
    {
     "name": "stdout",
     "output_type": "stream",
     "text": [
      "\n",
      "[  ]\t[  ]\t[  ]\t[  ]\t[  ]\t[  ]\t[  ]\t[  ]\t[  ]\t[  ]\t[  ]\t[  ]\t\n",
      "[  ]\t[  ]\t[  ]\t[  ]\t[  ]\t[  ]\t[  ]\t[  ]\t[  ]\t[  ]\t[  ]\t[  ]\t\n",
      "[  ]\t[  ]\t[  ]\t[  ]\t[  ]\t[  ]\t[  ]\t[  ]\t[  ]\t[  ]\t[  ]\t[  ]\t\n",
      "[  ]\t[  ]\t[  ]\t[  ]\t[  ]\t[  ]\t[  ]\t[  ]\t[  ]\t[  ]\t[  ]\t[  ]\t\n",
      "[  ]\t[  ]\t[  ]\t[  ]\t[  ]\t[  ]\t[  ]\t[  ]\t[  ]\t[  ]\t[  ]\t[  ]\t\n",
      "[  ]\t[  ]\t[  ]\t[  ]\t[  ]\t[  ]\t[  ]\t[  ]\t[  ]\t[  ]\t[  ]\t[  ]\t\n",
      "Cat\tDoe\t[  ]\t[  ]\t[  ]\t[  ]\t[  ]\t[  ]\t[  ]\t[  ]\t[  ]\t[  ]\t\n",
      "Ewe\tCow\tDog\tRat\t[  ]\t[  ]\t[  ]\t[  ]\t[  ]\t[  ]\t[  ]\t[  ]\t\n",
      "\n"
     ]
    },
    {
     "ename": "TypeError",
     "evalue": "'int' object is not subscriptable",
     "output_type": "error",
     "traceback": [
      "\u001b[0;31m---------------------------------------------------------------------------\u001b[0m",
      "\u001b[0;31mTypeError\u001b[0m                                 Traceback (most recent call last)",
      "Input \u001b[0;32mIn [31]\u001b[0m, in \u001b[0;36m<cell line: 2>\u001b[0;34m()\u001b[0m\n\u001b[1;32m      1\u001b[0m \u001b[38;5;28mprint\u001b[39m(initialState\u001b[38;5;241m.\u001b[39mstate)\n\u001b[1;32m      2\u001b[0m \u001b[38;5;28;01mfor\u001b[39;00m i \u001b[38;5;129;01min\u001b[39;00m duplicateState:\n\u001b[0;32m----> 3\u001b[0m     \u001b[38;5;28;43mprint\u001b[39;49m\u001b[43m(\u001b[49m\u001b[43mi\u001b[49m\u001b[43m,\u001b[49m\u001b[38;5;124;43m\"\u001b[39;49m\u001b[38;5;130;43;01m\\n\u001b[39;49;00m\u001b[38;5;130;43;01m\\n\u001b[39;49;00m\u001b[38;5;124;43m\"\u001b[39;49m\u001b[43m)\u001b[49m\n",
      "Input \u001b[0;32mIn [9]\u001b[0m, in \u001b[0;36mStateWrapper.__str__\u001b[0;34m(self)\u001b[0m\n\u001b[1;32m     13\u001b[0m \u001b[38;5;28;01mdef\u001b[39;00m \u001b[38;5;21m__str__\u001b[39m(\u001b[38;5;28mself\u001b[39m):\n\u001b[0;32m---> 14\u001b[0m     \u001b[43mprintState\u001b[49m\u001b[43m(\u001b[49m\u001b[38;5;28;43mself\u001b[39;49m\u001b[38;5;241;43m.\u001b[39;49m\u001b[43mstate\u001b[49m\u001b[38;5;241;43m.\u001b[39;49m\u001b[43mship\u001b[49m\u001b[43m)\u001b[49m\n\u001b[1;32m     15\u001b[0m     t\u001b[38;5;241m=\u001b[39m\u001b[38;5;124m\"\u001b[39m\u001b[38;5;130;01m\\n\u001b[39;00m\u001b[38;5;130;01m\\n\u001b[39;00m\u001b[38;5;124m\"\u001b[39m\n\u001b[1;32m     16\u001b[0m     \u001b[38;5;28;01mif\u001b[39;00m \u001b[38;5;28mself\u001b[39m\u001b[38;5;241m.\u001b[39mcolPick\u001b[38;5;241m>\u001b[39m\u001b[38;5;241m0\u001b[39m:\n",
      "Input \u001b[0;32mIn [6]\u001b[0m, in \u001b[0;36mprintState\u001b[0;34m(array)\u001b[0m\n\u001b[1;32m      2\u001b[0m \u001b[38;5;28;01mfor\u001b[39;00m j \u001b[38;5;129;01min\u001b[39;00m \u001b[38;5;28mrange\u001b[39m(\u001b[38;5;241m7\u001b[39m,\u001b[38;5;241m-\u001b[39m\u001b[38;5;241m1\u001b[39m,\u001b[38;5;241m-\u001b[39m\u001b[38;5;241m1\u001b[39m):\n\u001b[1;32m      3\u001b[0m     \u001b[38;5;28mprint\u001b[39m(\u001b[38;5;124m\"\u001b[39m\u001b[38;5;124m\"\u001b[39m)\n\u001b[0;32m----> 4\u001b[0m     \u001b[38;5;28;01mfor\u001b[39;00m i \u001b[38;5;129;01min\u001b[39;00m \u001b[43marray\u001b[49m\u001b[43m[\u001b[49m\u001b[43mj\u001b[49m\u001b[43m]\u001b[49m:\n\u001b[1;32m      5\u001b[0m         \u001b[38;5;28;01mif\u001b[39;00m(i[\u001b[38;5;241m3\u001b[39m]\u001b[38;5;241m==\u001b[39m\u001b[38;5;124m\"\u001b[39m\u001b[38;5;124mUNUSED\u001b[39m\u001b[38;5;124m\"\u001b[39m):\n\u001b[1;32m      6\u001b[0m             \u001b[38;5;28mprint\u001b[39m(\u001b[38;5;124m\"\u001b[39m\u001b[38;5;124m[  ]\u001b[39m\u001b[38;5;124m\"\u001b[39m, end\u001b[38;5;241m=\u001b[39m\u001b[38;5;124m\"\u001b[39m\u001b[38;5;130;01m\\t\u001b[39;00m\u001b[38;5;124m\"\u001b[39m)\n",
      "\u001b[0;31mTypeError\u001b[0m: 'int' object is not subscriptable"
     ]
    }
   ],
   "source": [
    "print(initialState.state)\n",
    "for i in duplicateState:\n",
    "    print(i,\"\\n\\n\")"
   ]
  },
  {
   "cell_type": "markdown",
   "id": "b11292af",
   "metadata": {},
   "source": [
    "### Load/Unload Loop"
   ]
  },
  {
   "cell_type": "markdown",
   "id": "406eb9b7",
   "metadata": {},
   "source": [
    "## Balancing Problem"
   ]
  },
  {
   "cell_type": "code",
   "execution_count": null,
   "id": "338cf8ae",
   "metadata": {},
   "outputs": [],
   "source": [
    "#Function for testing balance\n",
    "def balanceScore(array, cols=ncols):\n",
    "    split=cols/2\n",
    "    left = sum(((array[:,:int(split),2]).flatten()).astype(int))\n",
    "    #print(left)\n",
    "    right = sum(((array[:,int(split):,2]).flatten()).astype(int))\n",
    "    #print(right)\n",
    "    \n",
    "    if(left==right):\n",
    "        return 1\n",
    "    if(left==0 or right==0):\n",
    "        return 0\n",
    "    \n",
    "    return min(left,right)/max(left,right)\n",
    "#balanceScore(testManifestArray)"
   ]
  },
  {
   "cell_type": "code",
   "execution_count": null,
   "id": "57b55279",
   "metadata": {},
   "outputs": [],
   "source": [
    "#Function for accepting balance\n",
    "#default threshold of 10% \n",
    "def balanced(state, cols=ncols, thresh=.1):\n",
    "    array = state.state.ship\n",
    "    if(balanceScore(array, cols) > (1-thresh)):\n",
    "        return True\n",
    "    return False\n",
    "#balanced(testManifestArray)"
   ]
  },
  {
   "cell_type": "markdown",
   "id": "cc3c5ae5",
   "metadata": {},
   "source": [
    "### Heuristic (Balance)"
   ]
  },
  {
   "cell_type": "code",
   "execution_count": null,
   "id": "720f254d",
   "metadata": {},
   "outputs": [],
   "source": [
    "def totalWeight(array):\n",
    "    return sum(((array[:,:,2]).flatten()).astype(int))\n",
    "\n",
    "def leftWeight(array, cols=ncols):\n",
    "    split=cols/2\n",
    "    return sum(((array[:,:int(split),2]).flatten()).astype(int))\n",
    "\n",
    "def rightWeight(array, cols=ncols):\n",
    "    split=cols/2\n",
    "    return sum(((array[:,int(split):,2]).flatten()).astype(int))\n",
    "\n",
    "def heavySide(state, cols=ncols):\n",
    "    array = state.state.ship\n",
    "    left = leftWeight(array,cols)\n",
    "    right = rightWeight(array,cols)\n",
    "    if(left < right):\n",
    "        return 1\n",
    "    return 0\n",
    "\n",
    "def balanceHeuristicDroped(state, cols=ncols):\n",
    "    #Given state, how balanced is it and what potential does it have?\n",
    "    \n",
    "    array = state.state.ship\n",
    "\n",
    "    balanceMass = totalWeight(array)/2\n",
    "    split = cols/2\n",
    "    \n",
    "    #which side is heavier\n",
    "    side = heavySide(state)\n",
    "        \n",
    "    left = leftWeight(array,cols)\n",
    "    right = rightWeight(array,cols)\n",
    "    \n",
    "    deficit = abs(balanceMass - max(left, right))\n",
    "\n",
    "    if(side==0):\n",
    "        weights = removeEmpty((array[:,:int(split)]))\n",
    "    else:\n",
    "        weights = removeEmpty((array[:,int(split):]))\n",
    "    \n",
    "    #list of cells sorted by weight\n",
    "    sortedList = sorted(weights, key=lambda x: x[2], reverse=True)\n",
    "    newDef = deficit\n",
    "    h = 0\n",
    "    for i in sortedList:\n",
    "#         print(\"\\ndef\", newDef, \"\\n-\")\n",
    "#         print(i[2])\n",
    "\n",
    "        if (newDef - int(i[2]) > 0):\n",
    "            newDef -= int(i[2])\n",
    "            h+=1\n",
    "    \n",
    "            \n",
    "    #h is amount of containers needed to move to get close to balance\n",
    "    return h, sortedList\n",
    "\n"
   ]
  },
  {
   "cell_type": "code",
   "execution_count": null,
   "id": "3a85ea79",
   "metadata": {},
   "outputs": [],
   "source": [
    "def balanceHeuristicPicked(state, colPick=-1, cols=ncols):\n",
    "    #Picking from col pickCol, how good is this state?\n",
    "    #what is the dist needed to drop into col on other side\n",
    "        \n",
    "\n",
    "    colPick = state.colPick\n",
    "    array = state.state.ship\n",
    "    \n",
    "    side = heavySide(state)\n",
    "    \n",
    "    heightsArray = np.array(heights(array))\n",
    "    \n",
    "    #check if picking from heavy side    \n",
    "    if(side==0 and colPick<cols/2):\n",
    "        if( (heightsArray[int(cols/2):cols]<nrows-1).all() ):\n",
    "#             print(\"side 0, moving to\",cols/2)\n",
    "            return cols/2 - colPick\n",
    "\n",
    "        #there are full cols\n",
    "#         print(\"left\")\n",
    "        for i in range(int(cols/2), cols):\n",
    "            print(i)\n",
    "            if(heightsArray[i] < nrows-1):\n",
    "                return i - colPick\n",
    "    \n",
    "    if(side==1 and colPick>=cols/2):\n",
    "        if( (heightsArray[int(cols/2)-1:-1]<nrows-1).all() ):\n",
    "            return colPick - ((cols/2)-1)\n",
    "        \n",
    "        #there are full cols\n",
    "#         print(\"right\")\n",
    "        for i in range(int(cols/2)-1, -1, -1):\n",
    "            if(heightsArray[i] < nrows-1):\n",
    "                return colPick-i\n",
    "            \n",
    "    #pulling from side that is lighter\n",
    "    \n",
    "    #h is slightly worse than worst case moving from heavier side\n",
    "    return int(1 + cols/2)"
   ]
  },
  {
   "cell_type": "code",
   "execution_count": null,
   "id": "6c95bbd0",
   "metadata": {},
   "outputs": [],
   "source": [
    "def sift(array, sortedList=0, cols = ncols):\n",
    "    tmpArray = array.copy()\n",
    "    cont= removeEmpty(array)\n",
    "    containers = cont.copy()\n",
    "    cont[:,2:4] = ['00000','UNUSED']\n",
    "    \n",
    "    \n",
    "    filterArray = ((array[:,:,3] != 'UNUSED') == (array[:,:,3] != 'NAN'))    \n",
    "    \n",
    "    (tmpArray[filterArray]) = cont\n",
    "    #make empty ship while keeping NAN's\n",
    "    \n",
    "    if(sortedList==0):\n",
    "        sortedList = sorted(containers, key=lambda x: x[2], reverse=True)\n",
    "    \n",
    "    \n",
    "    #Place all containers 1 by 1\n",
    "    \n",
    "    for i in range(len(sortedList)):\n",
    "        height = (heights(tmpArray))        \n",
    "        if(i%2 == 0):\n",
    "            #every other time\n",
    "            minRow = min(height[0:int(cols/2)])\n",
    "            #place on left side\n",
    "            for w in range(int(cols/2)-1,-1,-1):\n",
    "                \n",
    "                h = stackHeight(tmpArray,w)+1\n",
    "                if(h == minRow):\n",
    "                    #we can place container here\n",
    "#                     print(\"\\nwas\", tmpArray[h,w])\n",
    "                    tmpArray[h,w,2:4] = sortedList[i][2:4]\n",
    "#                     print(\"\\tchanged to \", tmpArray[h,w])\n",
    "                    break\n",
    "                    \n",
    "        else:\n",
    "            #every other time\n",
    "            minRow = min(height[int(cols/2):cols+1])\n",
    "            #place on right side\n",
    "            for w in range(int(cols/2), cols+1):\n",
    "                \n",
    "                h = stackHeight(tmpArray,w)+1\n",
    "                if(h == minRow):\n",
    "                    #we can place container here\n",
    "#                     print(\"\\nwas\", tmpArray[h,w])\n",
    "                    tmpArray[h,w,2:4] = sortedList[i][2:4]\n",
    "#                     print(\"\\tchanged to \", tmpArray[h,w])\n",
    "                    break\n",
    "    \n",
    "    return tmpArray\n",
    "\n",
    "# print(State(sift(testManifestArray)))\n",
    "\n",
    "# print(State(testManifestArray))\n",
    "# s1 = StateWrapper(State(moveContainer(testManifestArray,4,7)))\n",
    "# s2 = StateWrapper(State(moveContainer((s1.state.ship),3,4)))\n",
    "# s3 = StateWrapper(State(moveContainer((s2.state.ship),5,3)))\n",
    "# s4 = StateWrapper(State(moveContainer((s3.state.ship),2,6)))\n",
    "# s5 = StateWrapper(State(moveContainer((s4.state.ship),1,5)))\n",
    "\n",
    "# print(s1)\n",
    "# print(s2)\n",
    "# print(s3)\n",
    "# print(s4)\n",
    "# print(s5)\n",
    "\n",
    "# if((s5.state.ship==sift(testManifestArray))).all():\n",
    "#     print(\"samee\")\n"
   ]
  },
  {
   "cell_type": "code",
   "execution_count": null,
   "id": "3b758da8",
   "metadata": {},
   "outputs": [],
   "source": [
    "#check of possible to balance\n",
    "\n",
    "def balancePossible(state) :\n",
    "    array = state.state.ship\n",
    "    cont = removeEmpty(array)\n",
    "    sortedList = np.array(sorted(cont, key=lambda x: x[2], reverse=True))\n",
    "    \n",
    "    big = int(sortedList[0][2])\n",
    "    other = sum((sortedList[1:,2].flatten()).astype(int))\n",
    "#     print(big)\n",
    "#     print(other)\n",
    "    \n",
    "    if((big>(big+other)/2) and (other/big <.9)):\n",
    "        return False\n",
    "    return True\n",
    "\n",
    "# balancePossible(s1)"
   ]
  },
  {
   "cell_type": "code",
   "execution_count": null,
   "id": "155f4aca",
   "metadata": {},
   "outputs": [],
   "source": [
    "def siftPick(state, col, siftState=sift(testManifestArray)):\n",
    "    array = state.state.ship\n",
    "    h = stackHeight(array,col)\n",
    "    chosen = array[h,col]\n",
    "    if((chosen == siftState[h,col])).all():\n",
    "        return(20)\n",
    "\n",
    "    for i in removeEmpty(siftState):\n",
    "#         print((chosen, \"vs\", i))\n",
    "        if((i[2:4] == chosen[2:4]).all()):\n",
    "#             return abs(int(i[1])-int(chosen[1]))\n",
    "            return(len(array))\n",
    "\n",
    "# print(State(sift((testManifestArray))))\n",
    "# print(s1)\n",
    "# siftPick(s1,1)"
   ]
  },
  {
   "cell_type": "code",
   "execution_count": null,
   "id": "13f786fa",
   "metadata": {},
   "outputs": [],
   "source": [
    "def siftDrop(state, siftState=sift(testManifestArray)):\n",
    "    array = np.array(removeEmpty(state.state.ship))\n",
    "    cont = np.array(removeEmpty(siftState))\n",
    "    \n",
    "    h=0\n",
    "    \n",
    "    for i in array:\n",
    "        for w in cont:\n",
    "            if((i==w).all()):\n",
    "                h+=1\n",
    "    \n",
    "#     print(h)\n",
    "    return len(array) - h\n",
    "    \n",
    "# print(State(sift((testManifestArray))))\n",
    "# print(s2)\n",
    "# siftDrop(s2)"
   ]
  },
  {
   "cell_type": "markdown",
   "id": "de86033a",
   "metadata": {},
   "source": [
    "### Branching Loop"
   ]
  },
  {
   "cell_type": "raw",
   "id": "fd627267",
   "metadata": {},
   "source": [
    "#when tracking moves, compensate coordinates +1 for dropoff location to match pick up\n",
    "    #**coordinates start at 1, not 0**\n",
    "comp = 1\n",
    "\n",
    "#checking if duplicateState changes in size\n",
    "old = 100\n",
    "\n",
    "#initial state:\n",
    "initialState = StateWrapper(State(testManifestArray))\n",
    "\n",
    "#duplicate states checker\n",
    "duplicateState = []\n",
    "\n",
    "#legal final states\n",
    "finalState = []\n",
    "\n",
    "#create sift state if branched to\n",
    "siftState = sift(testManifestArray)\n",
    "\n",
    "\n",
    "#Create PriorityQueue for queing states\n",
    "queueP = PriorityQueue()\n",
    "queueD = PriorityQueue()\n",
    "\n",
    "queueD.put(PrioritizedItem(1, 1, initialState))\n",
    "            \n",
    "depth = 0\n",
    "minCost = 10000\n",
    "\n",
    "\n",
    "if(balancePossible(initialState)):\n",
    "\n",
    "    #Choose where to move the container\n",
    "        #creating and adding those states\n",
    "    while True:\n",
    "\n",
    "        if not queueD.empty():\n",
    "            currentState=queueD.get().item\n",
    "\n",
    "        #Choose which container to move\n",
    "            #creating and adding those states\n",
    "            for w in range(0,ncols):\n",
    "                dropped=-1\n",
    "                if len(currentState.movesList) > 0:\n",
    "                        #cost of moving crane from dropped to new pickup\n",
    "                        dropped = currentState.movesList[-1][1][1]-1\n",
    "\n",
    "                if(w!=dropped):\n",
    "                    extraCost=0\n",
    "                    if len(currentState.movesList) > 0:\n",
    "                        extraCost = costCol(currentState.state.ship,currentState.movesList[-1][1][1]-1,w,empty=1)\n",
    "\n",
    "                    newPickState = StateWrapper(currentState.state, colPick=w, h=balanceHeuristicPicked(currentState, colPick=w), moves=currentState.moves, cost=currentState.cost + extraCost, movesList=currentState.movesList.copy())\n",
    "\n",
    "                    if(pickable(newPickState.state.ship, w) and (newPickState.cost < minCost)):\n",
    "                        queueP.put(PrioritizedItem(newPickState.h, newPickState.cost, newPickState))\n",
    "\n",
    "\n",
    "        while not queueP.empty():\n",
    "            currentState = queueP.get().item\n",
    "    #         print(\"\\nPick State\", currentState.state.ship[stackHeight(currentState.state.ship,col=currentState.colPick), currentState.colPick], \"with h =\",currentState.h)\n",
    "            #Create new branch\n",
    "            for newCol in range(0,ncols):\n",
    "                #try to place container in each col\n",
    "                if(stackHeight(currentState.state.ship,currentState.colPick)<nrows and newCol!=currentState.colPick):\n",
    "                    #does not allow if overflow or where it already was\n",
    "                    dropH, sortedList = balanceHeuristicDroped(state=currentState)\n",
    "                    newDropState = StateWrapper(State(moveContainer(currentState.state.ship,currentState.colPick,newCol)), h=dropH, moves=currentState.moves+1, cost=currentState.cost + costCol(currentState.state.ship,curCol=currentState.colPick,newCol=newCol), movesList=currentState.movesList.copy())\n",
    "\n",
    "                    newDropState.movesList.append([[currentState.state.ship[stackHeight(currentState.state.ship,col=currentState.colPick), currentState.colPick].tolist()],[stackHeight(newDropState.state.ship,col=newCol)+comp,newCol+comp]])\n",
    "\n",
    "                    if((balanced(newDropState)) and (newDropState.cost < minCost) or (newDropState.state.ship == siftState).all()):\n",
    "    #                     print(\"[BALANCED]Droping container at\", newCol, \"for h =\", newDropState.h)\n",
    "                        finalState.append(newDropState)\n",
    "\n",
    "                        if(minCost >= newDropState.cost) :\n",
    "                            minCost=newDropState.cost\n",
    "                            print(\"[BALANCED]New Min Cost:\", minCost)\n",
    "                        if((newDropState.state.ship==siftState)).all():\n",
    "                            #sift state\n",
    "                            print(\"USING SIFT\")\n",
    "\n",
    "                    elif((newDropState.state not in duplicateState) and (newDropState.cost < minCost) ):\n",
    "                        duplicateState.append(newDropState.state)\n",
    "                    #add h of currentState (parent) and new Drop\n",
    "                        queueD.put(PrioritizedItem(currentState.h + newDropState.h, newDropState.cost, newDropState))\n",
    "    #                     print(\"\\t  Droping container at\", newCol, \"for h =\", newDropState.h)\n",
    "\n",
    "        #Stopping conditions\n",
    "\n",
    "        depth+=1\n",
    "        if((( depth>=1000 or len(finalState)>20) and len(finalState)!=0) or (queueD.empty() and len(duplicateState)==old )):\n",
    "            print(\"Exited at depth\",depth, \" and \", len(finalState), \"final states\", old,\"=?\",len(duplicateState))\n",
    "            if(queueD.empty()):\n",
    "                print(\"No More states to branch from!\")\n",
    "            break\n",
    "        else:\n",
    "            old = len(duplicateState)\n",
    "else:\n",
    "    print(\"need to sift\")\n",
    "    while(True):\n",
    "        if not queueD.empty():\n",
    "                currentState=queueD.get().item\n",
    "\n",
    "            #Choose which container to move\n",
    "                #creating and adding those states\n",
    "                for w in range(0,ncols):\n",
    "                    dropped=-1\n",
    "                    if len(currentState.movesList) > 0:\n",
    "                            #where we dropped\n",
    "                            dropped = currentState.movesList[-1][1][1]-1\n",
    "\n",
    "                    if(w!=dropped):\n",
    "                        extraCost=0\n",
    "                        if len(currentState.movesList) > 0:\n",
    "                            #cost of moving crane from dropped to new pickup\n",
    "                            extraCost = costCol(currentState.state.ship,currentState.movesList[-1][1][1]-1,w,empty=1)\n",
    "\n",
    "                        newPickState = StateWrapper(currentState.state, colPick=w, h=siftPick(currentState,siftState=siftState,col=w), moves=currentState.moves, cost=currentState.cost + extraCost, movesList=currentState.movesList.copy())\n",
    "\n",
    "                        if(pickable(newPickState.state.ship, w) and (newPickState.cost < minCost)):\n",
    "                            queueP.put(PrioritizedItem(newPickState.h, newPickState.cost, newPickState))\n",
    "\n",
    "\n",
    "        while not queueP.empty():\n",
    "            currentState = queueP.get().item\n",
    "#             print(\"\\nPick State\", currentState.state.ship[stackHeight(currentState.state.ship,col=currentState.colPick), currentState.colPick], \"with h =\",currentState.h)\n",
    "            #Create new branch\n",
    "            for newCol in range(0,ncols):\n",
    "                #try to place container in each col\n",
    "                if(stackHeight(currentState.state.ship,currentState.colPick)<nrows and newCol!=currentState.colPick):\n",
    "                    #does not allow if overflow or where it already was\n",
    "                    dropH = siftDrop(currentState,siftState=siftState)\n",
    "                    newDropState = StateWrapper(State(moveContainer(currentState.state.ship,currentState.colPick,newCol)), h=dropH, moves=currentState.moves+1, cost=currentState.cost + costCol(currentState.state.ship,curCol=currentState.colPick,newCol=newCol), movesList=currentState.movesList.copy())\n",
    "\n",
    "                    newDropState.movesList.append([[currentState.state.ship[stackHeight(currentState.state.ship,col=currentState.colPick), currentState.colPick].tolist()],[stackHeight(newDropState.state.ship,col=newCol)+comp,newCol+comp]])\n",
    "\n",
    "                    if((newDropState.state.ship == siftState).all()):\n",
    "    #                     print(\"[BALANCED]Droping container at\", newCol, \"for h =\", newDropState.h)\n",
    "                        finalState.append(newDropState)\n",
    "\n",
    "                        if(minCost >= newDropState.cost) :\n",
    "                            minCost=newDropState.cost\n",
    "                            print(\"USING SIFT\\n[BALANCED]New Min Cost:\", minCost)\n",
    "\n",
    "                    elif((newDropState.state not in duplicateState) and (newDropState.cost < minCost) ):\n",
    "                        duplicateState.append(newDropState.state)\n",
    "                    #add h of currentState (parent) and new Drop\n",
    "                        queueD.put(PrioritizedItem(currentState.h + newDropState.h, newDropState.cost, newDropState))\n",
    "#                         print(\"\\t  Droping container at\", newCol, \"for h =\", newDropState.h)\n",
    "\n",
    "        #Stopping conditions\n",
    "        depth+=1\n",
    "        if((( depth>=3000 or len(finalState)>20) and len(finalState)!=0) or (queueD.empty() and len(duplicateState)==old )):\n",
    "            print(\"Exited at depth\",depth, \" and \", len(finalState), \"final states\", old,\"=?\",len(duplicateState))\n",
    "            if(queueD.empty()):\n",
    "                print(\"No More states to branch from!\")\n",
    "            break\n",
    "        else:\n",
    "            old = len(duplicateState)\n",
    "                                  \n",
    "                                  \n"
   ]
  },
  {
   "cell_type": "raw",
   "id": "96623436",
   "metadata": {},
   "source": [
    "# for x in duplicateState:\n",
    "#       print(x,\"\\n\")"
   ]
  },
  {
   "cell_type": "raw",
   "id": "c2dcab7a",
   "metadata": {},
   "source": [
    "for x in finalState:\n",
    "    print(x,\"\\n\")\n",
    "print(len(finalState))"
   ]
  },
  {
   "cell_type": "raw",
   "id": "18de1858",
   "metadata": {},
   "source": [
    "print(\"[initial]\",initialState,\"\\n\\n\\t\\t\\t\\t||\\n\\t\\t\\t\\t\\/\\n\")\n",
    "best = sorted(finalState,key=lambda x: x.cost)[0]\n",
    "print(best)\n",
    "print(\"Best state's balance\",balanceScore(best.state.ship))"
   ]
  },
  {
   "cell_type": "code",
   "execution_count": null,
   "id": "302c93d0",
   "metadata": {},
   "outputs": [],
   "source": []
  },
  {
   "cell_type": "code",
   "execution_count": null,
   "id": "fcb399c2",
   "metadata": {},
   "outputs": [],
   "source": []
  },
  {
   "cell_type": "code",
   "execution_count": null,
   "id": "6f050f2e",
   "metadata": {},
   "outputs": [],
   "source": []
  }
 ],
 "metadata": {
  "kernelspec": {
   "display_name": "Python 3",
   "language": "python",
   "name": "python3"
  },
  "language_info": {
   "codemirror_mode": {
    "name": "ipython",
    "version": 3
   },
   "file_extension": ".py",
   "mimetype": "text/x-python",
   "name": "python",
   "nbconvert_exporter": "python",
   "pygments_lexer": "ipython3",
   "version": "3.8.9 (default, Jul 19 2021, 09:37:30) \n[Clang 13.0.0 (clang-1300.0.27.3)]"
  },
  "vscode": {
   "interpreter": {
    "hash": "31f2aee4e71d21fbe5cf8b01ff0e069b9275f58929596ceb00d14d90e3e16cd6"
   }
  }
 },
 "nbformat": 4,
 "nbformat_minor": 5
}
