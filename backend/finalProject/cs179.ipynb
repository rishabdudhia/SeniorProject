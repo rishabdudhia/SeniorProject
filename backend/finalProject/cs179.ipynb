{
 "cells": [
  {
   "cell_type": "code",
   "execution_count": 1,
   "id": "205591fd",
   "metadata": {},
   "outputs": [],
   "source": [
    "from flask import Flask, render_template\n",
    "import pandas as pd\n",
    "import numpy as np\n",
    "from queue import PriorityQueue"
   ]
  },
  {
   "cell_type": "code",
   "execution_count": 2,
   "id": "f6987b51",
   "metadata": {},
   "outputs": [],
   "source": [
    "manifest_name = \"SS TEST SHIP\"\n",
    "employee_name = \"John Doe\"\n",
    "shipCase = 2\n",
    "\n",
    "nrows=8\n",
    "ncols=12\n",
    "\n",
    "# manifest = []\n",
    "# for case in range(1,6):\n",
    "#     manifest.append( pd.read_csv('./ship_cases/ShipCase'+str(case)+'.txt',header=None,names=[\"col\",\"row\",\"weight\",\"name\"]) )\n",
    "#     manifest[case-1]['col'] = manifest[case-1]['col'].str.replace(\"[\",\"\", regex=True)\n",
    "#     manifest[case-1]['row'] = manifest[case-1]['row'].str.replace(\"]\",\"\", regex=True)\n",
    "#     manifest[case-1]['weight'] = manifest[case-1]['weight'].str.replace(\"{\",\"\", regex=True).replace(\"}\",\"\", regex=True)"
   ]
  },
  {
   "cell_type": "code",
   "execution_count": 3,
   "id": "3d60c492",
   "metadata": {},
   "outputs": [
    {
     "data": {
      "text/html": [
       "<div>\n",
       "<style scoped>\n",
       "    .dataframe tbody tr th:only-of-type {\n",
       "        vertical-align: middle;\n",
       "    }\n",
       "\n",
       "    .dataframe tbody tr th {\n",
       "        vertical-align: top;\n",
       "    }\n",
       "\n",
       "    .dataframe thead th {\n",
       "        text-align: right;\n",
       "    }\n",
       "</style>\n",
       "<table border=\"1\" class=\"dataframe\">\n",
       "  <thead>\n",
       "    <tr style=\"text-align: right;\">\n",
       "      <th></th>\n",
       "      <th>col</th>\n",
       "      <th>row</th>\n",
       "      <th>weight</th>\n",
       "      <th>cont</th>\n",
       "    </tr>\n",
       "  </thead>\n",
       "  <tbody>\n",
       "    <tr>\n",
       "      <th>0</th>\n",
       "      <td>01</td>\n",
       "      <td>01</td>\n",
       "      <td>00000</td>\n",
       "      <td>NAN</td>\n",
       "    </tr>\n",
       "    <tr>\n",
       "      <th>1</th>\n",
       "      <td>01</td>\n",
       "      <td>02</td>\n",
       "      <td>00000</td>\n",
       "      <td>NAN</td>\n",
       "    </tr>\n",
       "    <tr>\n",
       "      <th>2</th>\n",
       "      <td>01</td>\n",
       "      <td>03</td>\n",
       "      <td>00000</td>\n",
       "      <td>NAN</td>\n",
       "    </tr>\n",
       "    <tr>\n",
       "      <th>3</th>\n",
       "      <td>01</td>\n",
       "      <td>04</td>\n",
       "      <td>00120</td>\n",
       "      <td>Ram</td>\n",
       "    </tr>\n",
       "    <tr>\n",
       "      <th>4</th>\n",
       "      <td>01</td>\n",
       "      <td>05</td>\n",
       "      <td>00000</td>\n",
       "      <td>UNUSED</td>\n",
       "    </tr>\n",
       "  </tbody>\n",
       "</table>\n",
       "</div>"
      ],
      "text/plain": [
       "  col row weight    cont\n",
       "0  01  01  00000     NAN\n",
       "1  01  02  00000     NAN\n",
       "2  01  03  00000     NAN\n",
       "3  01  04  00120     Ram\n",
       "4  01  05  00000  UNUSED"
      ]
     },
     "execution_count": 3,
     "metadata": {},
     "output_type": "execute_result"
    }
   ],
   "source": [
    "testManifest = ( pd.read_csv('./ship_cases/ShipCase'+str(shipCase)+'.txt',header=None,names=[\"col\",\"row\",\"weight\",\"cont\"]) )\n",
    "testManifest['col'] = testManifest['col'].str.replace(\"\\[| \",\"\", regex=True)\n",
    "testManifest['row'] = testManifest['row'].str.replace(\"\\]| \",\"\", regex=True)\n",
    "testManifest['weight'] = testManifest['weight'].str.replace(\"{|}| \",\"\", regex=True)\n",
    "testManifest['cont'] = (testManifest['cont'].str[1:])\n",
    "\n",
    "testManifest.head()"
   ]
  },
  {
   "cell_type": "code",
   "execution_count": 4,
   "id": "9e501986",
   "metadata": {},
   "outputs": [],
   "source": [
    "class Cell:\n",
    "    def __init__(self, col, row, weight, cont):\n",
    "        self.col = col\n",
    "        self.row = row\n",
    "        self.weight = weight\n",
    "        seld.cont = cont\n",
    "#not actually using this"
   ]
  },
  {
   "cell_type": "code",
   "execution_count": 5,
   "id": "4fbeb857",
   "metadata": {},
   "outputs": [
    {
     "name": "stdout",
     "output_type": "stream",
     "text": [
      "['01' '02' '00000' 'NAN']\n"
     ]
    }
   ],
   "source": [
    "#creating 2d np array for ship\n",
    "testManifestArray = np.array(testManifest.loc[:]).reshape(nrows,ncols,4)\n",
    "print(testManifestArray[0,1])"
   ]
  },
  {
   "cell_type": "code",
   "execution_count": 6,
   "id": "b5bfcba9",
   "metadata": {},
   "outputs": [
    {
     "name": "stdout",
     "output_type": "stream",
     "text": [
      "[[0. 0. 0. 0. 0. 0. 0. 0. 0. 0. 0. 0. 0. 0. 0. 0. 0. 0. 0. 0. 0. 0. 0. 0.]\n",
      " [0. 0. 0. 0. 0. 0. 0. 0. 0. 0. 0. 0. 0. 0. 0. 0. 0. 0. 0. 0. 0. 0. 0. 0.]\n",
      " [0. 0. 0. 0. 0. 0. 0. 0. 0. 0. 0. 0. 0. 0. 0. 0. 0. 0. 0. 0. 0. 0. 0. 0.]\n",
      " [0. 0. 0. 0. 0. 0. 0. 0. 0. 0. 0. 0. 0. 0. 0. 0. 0. 0. 0. 0. 0. 0. 0. 0.]]\n"
     ]
    }
   ],
   "source": [
    "#creating 2d np array for buffer\n",
    "testBuffer = np.zeros(4*24).reshape(4,24)\n",
    "print(testBuffer)"
   ]
  },
  {
   "cell_type": "markdown",
   "id": "66dc7f90",
   "metadata": {},
   "source": [
    "####"
   ]
  },
  {
   "cell_type": "code",
   "execution_count": 7,
   "id": "3442e769",
   "metadata": {},
   "outputs": [],
   "source": [
    "def printState(array):\n",
    "    for j in range(7,-1,-1):\n",
    "        print(\"\")\n",
    "        for i in array[j]:\n",
    "            if(i[3]==\"UNUSED\"):\n",
    "                print(\"[  ]\", end=\"\\t\")\n",
    "            else:\n",
    "                print(i[3], end=\"\\t\")\n",
    "#printState(testManifestArray)"
   ]
  },
  {
   "cell_type": "code",
   "execution_count": 8,
   "id": "ccda13c0",
   "metadata": {},
   "outputs": [
    {
     "name": "stdout",
     "output_type": "stream",
     "text": [
      "\n",
      "[  ]\t[  ]\t[  ]\t[  ]\t[  ]\t[  ]\t[  ]\t[  ]\t[  ]\t[  ]\t[  ]\t[  ]\t\n",
      "[  ]\t[  ]\t[  ]\t[  ]\t[  ]\t[  ]\t[  ]\t[  ]\t[  ]\t[  ]\t[  ]\t[  ]\t\n",
      "[  ]\t[  ]\t[  ]\t[  ]\t[  ]\t[  ]\t[  ]\t[  ]\t[  ]\t[  ]\t[  ]\t[  ]\t\n",
      "[  ]\t[  ]\t[  ]\t[  ]\t[  ]\t[  ]\t[  ]\t[  ]\t[  ]\t[  ]\t[  ]\t[  ]\t\n",
      "[  ]\t[  ]\t[  ]\t[  ]\t[  ]\t[  ]\t[  ]\t[  ]\t[  ]\t[  ]\t[  ]\t[  ]\t\n",
      "Cat\t[  ]\t[  ]\t[  ]\t[  ]\t[  ]\t[  ]\t[  ]\t[  ]\t[  ]\t[  ]\t[  ]\t\n",
      "NAN\tDog\t[  ]\t[  ]\t[  ]\t[  ]\t[  ]\t[  ]\t[  ]\t[  ]\t[  ]\tNAN\t\n",
      "NAN\tNAN\tNAN\tRam\t[  ]\t[  ]\t[  ]\t[  ]\tOwl\tNAN\tNAN\tNAN\t"
     ]
    }
   ],
   "source": [
    "printState(testManifestArray)"
   ]
  },
  {
   "cell_type": "markdown",
   "id": "612db5f8",
   "metadata": {},
   "source": [
    "### Defining a State"
   ]
  },
  {
   "cell_type": "code",
   "execution_count": 9,
   "id": "57f99c89",
   "metadata": {},
   "outputs": [],
   "source": [
    "#Need Matrix of Ship Containers\n",
    "#Need Matrix of Buffer Zone\n",
    "#Need Col # the Crane is picking from\n",
    "class State:\n",
    "    def __init__(self, ship, topLayer=[], buffer=testBuffer):\n",
    "        self.ship = ship\n",
    "        self.buffer = buffer\n",
    "        self.topLayer = topLayer\n",
    "\n",
    "    def __str__(self):\n",
    "        printState(self.ship)\n",
    "        #return f\"\\n\\nPick Col: {self.colPos}\"\n",
    "        return \"\""
   ]
  },
  {
   "cell_type": "code",
   "execution_count": 10,
   "id": "82bfa925",
   "metadata": {},
   "outputs": [],
   "source": [
    "#decorator clas for use with branching\n",
    "class StateWrapper:\n",
    "    def __init__(self, state, colPick=-1, h=20, moves = 0, cost=0, movesList = []):\n",
    "        self.state = state\n",
    "        self.colPick = colPick\n",
    "        self.h = h\n",
    "        self.moves = moves\n",
    "        self.cost = cost\n",
    "            #of the form [(x1,y1), (x2,y2)]\n",
    "        self.movesList = movesList\n",
    "\n",
    "    def __str__(self):\n",
    "        printState(self.state.ship)\n",
    "        t=\"\"\n",
    "        if self.colPick>0:\n",
    "            t=f\"Pick Col: {self.colPick}\"\n",
    "        return t+f\"\\n\\nh: {self.h}\\n# of Moves: {self.moves}\\nCost: {self.cost}\\nMovesList: {self.movesList}\""
   ]
  },
  {
   "cell_type": "code",
   "execution_count": 11,
   "id": "2398ee47",
   "metadata": {},
   "outputs": [
    {
     "name": "stdout",
     "output_type": "stream",
     "text": [
      "\n",
      "[  ]\t[  ]\t[  ]\t[  ]\t[  ]\t[  ]\t[  ]\t[  ]\t[  ]\t[  ]\t[  ]\t[  ]\t\n",
      "[  ]\t[  ]\t[  ]\t[  ]\t[  ]\t[  ]\t[  ]\t[  ]\t[  ]\t[  ]\t[  ]\t[  ]\t\n",
      "[  ]\t[  ]\t[  ]\t[  ]\t[  ]\t[  ]\t[  ]\t[  ]\t[  ]\t[  ]\t[  ]\t[  ]\t\n",
      "[  ]\t[  ]\t[  ]\t[  ]\t[  ]\t[  ]\t[  ]\t[  ]\t[  ]\t[  ]\t[  ]\t[  ]\t\n",
      "[  ]\t[  ]\t[  ]\t[  ]\t[  ]\t[  ]\t[  ]\t[  ]\t[  ]\t[  ]\t[  ]\t[  ]\t\n",
      "Cat\t[  ]\t[  ]\t[  ]\t[  ]\t[  ]\t[  ]\t[  ]\t[  ]\t[  ]\t[  ]\t[  ]\t\n",
      "NAN\tDog\t[  ]\t[  ]\t[  ]\t[  ]\t[  ]\t[  ]\t[  ]\t[  ]\t[  ]\tNAN\t\n",
      "NAN\tNAN\tNAN\tRam\t[  ]\t[  ]\t[  ]\t[  ]\tOwl\tNAN\tNAN\tNAN\tPick Col: 1\n",
      "\n",
      "h: 20\n",
      "# of Moves: 0\n",
      "Cost: 0\n",
      "MovesList: []\n"
     ]
    }
   ],
   "source": [
    "print(StateWrapper(State(testManifestArray), 1))"
   ]
  },
  {
   "cell_type": "markdown",
   "id": "1567b19d",
   "metadata": {},
   "source": [
    "### Branching Factor is 12 (number of col)"
   ]
  },
  {
   "cell_type": "code",
   "execution_count": 12,
   "id": "919a01b9",
   "metadata": {},
   "outputs": [],
   "source": [
    "#To branch we place our picked container (top most of selected col) on top of highest container of another col\n"
   ]
  },
  {
   "cell_type": "markdown",
   "id": "21906c08",
   "metadata": {},
   "source": [
    "#### Helper Function to find Highest Container in Stack"
   ]
  },
  {
   "cell_type": "code",
   "execution_count": 13,
   "id": "9e290f75",
   "metadata": {},
   "outputs": [],
   "source": [
    "def stackHeight(array, col, nrows=nrows):\n",
    "    for row in range(nrows-1,-1,-1):\n",
    "        if(array[row,col,3] != \"UNUSED\"):\n",
    "            return row\n",
    "    return(-1)\n",
    "    #-1 means no containers/blocked spaces in col"
   ]
  },
  {
   "cell_type": "code",
   "execution_count": 14,
   "id": "cf14a29c",
   "metadata": {},
   "outputs": [
    {
     "name": "stdout",
     "output_type": "stream",
     "text": [
      "[['01' '05' '00000' 'UNUSED']\n",
      " ['02' '05' '00000' 'UNUSED']\n",
      " ['03' '05' '00000' 'UNUSED']\n",
      " ['04' '05' '00000' 'UNUSED']\n",
      " ['05' '05' '00000' 'UNUSED']\n",
      " ['06' '05' '00000' 'UNUSED']\n",
      " ['07' '05' '00000' 'UNUSED']\n",
      " ['08' '05' '00000' 'UNUSED']]\n"
     ]
    },
    {
     "data": {
      "text/plain": [
       "-1"
      ]
     },
     "execution_count": 14,
     "metadata": {},
     "output_type": "execute_result"
    }
   ],
   "source": [
    "testCol=4\n",
    "print(testManifestArray[:,testCol])\n",
    "stackHeight(testManifestArray,testCol)"
   ]
  },
  {
   "cell_type": "code",
   "execution_count": 15,
   "id": "320ae269",
   "metadata": {},
   "outputs": [
    {
     "data": {
      "text/plain": [
       "[3, 2, 1, 1, 0, 0, 0, 0, 1, 1, 1, 2]"
      ]
     },
     "execution_count": 15,
     "metadata": {},
     "output_type": "execute_result"
    }
   ],
   "source": [
    "def heights(array, cols=ncols):\n",
    "    h = []\n",
    "    for col in range(0,cols):\n",
    "        h.append(stackHeight(array,col) + 1)\n",
    "    return h\n",
    "\n",
    "heights(testManifestArray)"
   ]
  },
  {
   "cell_type": "markdown",
   "id": "85925de6",
   "metadata": {},
   "source": [
    "#### Helper function to find top layer"
   ]
  },
  {
   "cell_type": "code",
   "execution_count": 16,
   "id": "516bb11b",
   "metadata": {},
   "outputs": [
    {
     "name": "stdout",
     "output_type": "stream",
     "text": [
      "[['00040' 'Cat' 2]\n",
      " ['00050' 'Dog' 1]\n",
      " ['00000' 'NAN' 0]\n",
      " ['00120' 'Ram' 0]\n",
      " ['-99999' 'NONAME' '-1']\n",
      " ['-99999' 'NONAME' '-1']\n",
      " ['-99999' 'NONAME' '-1']\n",
      " ['-99999' 'NONAME' '-1']\n",
      " ['00035' 'Owl' 0]\n",
      " ['00000' 'NAN' 0]\n",
      " ['00000' 'NAN' 0]\n",
      " ['00000' 'NAN' 1]]\n"
     ]
    }
   ],
   "source": [
    "def updateTop(array, cols=ncols):\n",
    "    top = []\n",
    "    for i in range(0,cols):\n",
    "        h = stackHeight(array,i)\n",
    "        if(h!=-1):\n",
    "            top.append( np.append(array[h,i,2:4],h) )\n",
    "        else:\n",
    "            top.append(np.array(['-99999','NONAME',h]))\n",
    "    return np.array(top)\n",
    "\n",
    "tmp = StateWrapper(State(testManifestArray, topLayer=updateTop(testManifestArray)), 1)\n",
    "print(tmp.state.topLayer)"
   ]
  },
  {
   "cell_type": "markdown",
   "id": "eb992d6f",
   "metadata": {},
   "source": [
    "#### Helper to find if can pick container"
   ]
  },
  {
   "cell_type": "code",
   "execution_count": 17,
   "id": "c2e68bb4",
   "metadata": {},
   "outputs": [],
   "source": [
    "def pickable(array, col, nrows=nrows):\n",
    "    h = stackHeight(array,col,nrows)\n",
    "    if(array[h,col,3]==\"NAN\" or h==-1):\n",
    "        return False\n",
    "    return True"
   ]
  },
  {
   "cell_type": "markdown",
   "id": "6cc705b1",
   "metadata": {},
   "source": [
    "#### Place container to new col"
   ]
  },
  {
   "cell_type": "code",
   "execution_count": 51,
   "id": "7992671b",
   "metadata": {},
   "outputs": [
    {
     "name": "stdout",
     "output_type": "stream",
     "text": [
      "\n",
      "[  ]\t[  ]\t[  ]\t[  ]\t[  ]\t[  ]\t[  ]\t[  ]\t[  ]\t[  ]\t[  ]\t[  ]\t\n",
      "[  ]\t[  ]\t[  ]\t[  ]\t[  ]\t[  ]\t[  ]\t[  ]\t[  ]\t[  ]\t[  ]\t[  ]\t\n",
      "[  ]\t[  ]\t[  ]\t[  ]\t[  ]\t[  ]\t[  ]\t[  ]\t[  ]\t[  ]\t[  ]\t[  ]\t\n",
      "[  ]\t[  ]\t[  ]\t[  ]\t[  ]\t[  ]\t[  ]\t[  ]\t[  ]\t[  ]\t[  ]\t[  ]\t\n",
      "[  ]\t[  ]\t[  ]\t[  ]\t[  ]\t[  ]\t[  ]\t[  ]\t[  ]\t[  ]\t[  ]\t[  ]\t\n",
      "Cat\t[  ]\t[  ]\t[  ]\t[  ]\t[  ]\t[  ]\t[  ]\t[  ]\t[  ]\t[  ]\t[  ]\t\n",
      "NAN\tDog\t[  ]\t[  ]\t[  ]\t[  ]\t[  ]\t[  ]\t[  ]\t[  ]\t[  ]\tNAN\t\n",
      "NAN\tNAN\tNAN\tRam\t[  ]\t[  ]\t[  ]\t[  ]\tOwl\tNAN\tNAN\tNAN\t\n",
      "\n",
      "\n",
      "[  ]\t[  ]\t[  ]\t[  ]\t[  ]\t[  ]\t[  ]\t[  ]\t[  ]\t[  ]\t[  ]\t[  ]\t\n",
      "[  ]\t[  ]\t[  ]\t[  ]\t[  ]\t[  ]\t[  ]\t[  ]\t[  ]\t[  ]\t[  ]\t[  ]\t\n",
      "[  ]\t[  ]\t[  ]\t[  ]\t[  ]\t[  ]\t[  ]\t[  ]\t[  ]\t[  ]\t[  ]\t[  ]\t\n",
      "[  ]\t[  ]\t[  ]\t[  ]\t[  ]\t[  ]\t[  ]\t[  ]\t[  ]\t[  ]\t[  ]\t[  ]\t\n",
      "[  ]\t[  ]\t[  ]\t[  ]\t[  ]\t[  ]\t[  ]\t[  ]\t[  ]\t[  ]\t[  ]\t[  ]\t\n",
      "Cat\t[  ]\t[  ]\t[  ]\t[  ]\t[  ]\t[  ]\t[  ]\t[  ]\t[  ]\t[  ]\t[  ]\t\n",
      "NAN\tDog\t[  ]\t[  ]\t[  ]\t[  ]\t[  ]\t[  ]\t[  ]\t[  ]\t[  ]\tNAN\t\n",
      "NAN\tNAN\tNAN\t[  ]\t[  ]\t[  ]\tRam\t[  ]\tOwl\tNAN\tNAN\tNAN\t\n",
      "\n",
      "[  ]\t[  ]\t[  ]\t[  ]\t[  ]\t[  ]\t[  ]\t[  ]\t[  ]\t[  ]\t[  ]\t[  ]\t\n",
      "[  ]\t[  ]\t[  ]\t[  ]\t[  ]\t[  ]\t[  ]\t[  ]\t[  ]\t[  ]\t[  ]\t[  ]\t\n",
      "[  ]\t[  ]\t[  ]\t[  ]\t[  ]\t[  ]\t[  ]\t[  ]\t[  ]\t[  ]\t[  ]\t[  ]\t\n",
      "[  ]\t[  ]\t[  ]\t[  ]\t[  ]\t[  ]\t[  ]\t[  ]\t[  ]\t[  ]\t[  ]\t[  ]\t\n",
      "[  ]\t[  ]\t[  ]\t[  ]\t[  ]\t[  ]\t[  ]\t[  ]\t[  ]\t[  ]\t[  ]\t[  ]\t\n",
      "Cat\t[  ]\t[  ]\t[  ]\t[  ]\t[  ]\t[  ]\t[  ]\t[  ]\t[  ]\t[  ]\t[  ]\t\n",
      "NAN\tDog\t[  ]\t[  ]\t[  ]\t[  ]\t[  ]\t[  ]\t[  ]\t[  ]\t[  ]\tNAN\t\n",
      "NAN\tNAN\tNAN\t[  ]\t[  ]\tOwl\tRam\t[  ]\t[  ]\tNAN\tNAN\tNAN\t\n"
     ]
    }
   ],
   "source": [
    "def moveContainer(array, col, newCol):\n",
    "    if(col==newCol):\n",
    "        return -1\n",
    "    #find where to place container\n",
    "    h1 = stackHeight(array,col)\n",
    "    h2 = stackHeight(array,newCol) +1 \n",
    "        \n",
    "    newArray = array.copy()\n",
    "    newArray[h2,newCol,2:4] = newArray[h1,col,2:4]  \n",
    "    newArray[h1,col,2:4] = ['00000','UNUSED']\n",
    "    \n",
    "#     print((newArray[h1]))\n",
    "    return newArray\n",
    "\n",
    "print(State(testManifestArray))\n",
    "print()\n",
    "s1 = State(moveContainer(testManifestArray,3,6))\n",
    "s2 = State(moveContainer((moveContainer(testManifestArray,3,6)),8,5))\n",
    "print(s1)\n",
    "print(s2)\n"
   ]
  },
  {
   "cell_type": "markdown",
   "id": "db747b7a",
   "metadata": {},
   "source": [
    "#### Cost of Moving from col x to col y"
   ]
  },
  {
   "cell_type": "code",
   "execution_count": 77,
   "id": "162b21e1",
   "metadata": {},
   "outputs": [
    {
     "name": "stdout",
     "output_type": "stream",
     "text": [
      "0 1 1\n",
      "4\n"
     ]
    }
   ],
   "source": [
    "def costCol(array, curCol, newCol, empty=0):\n",
    "    hs = heights(array)\n",
    "    maxHeight = max(hs)\n",
    "    \n",
    "    h1 = stackHeight(array,col=curCol) + 1\n",
    "    h2 = stackHeight(array,col=newCol) + 1\n",
    "    \n",
    "    \n",
    "    if(curCol<newCol):\n",
    "        localMax = max(hs[curCol+1:newCol]) \n",
    "        print(localMax,h1,h2)\n",
    "        if(h2>=h1 and localMax<h1):\n",
    "            return abs(0) + abs(curCol-newCol) + abs(localMax-h2-1) - empty\n",
    "        if(h2>=h1 or localMax>=h1):\n",
    "            return abs(localMax-h1) + abs(newCol-curCol) + abs(localMax-h2-1) \n",
    "        else:\n",
    "            return abs(h1-localMax) + abs(newCol-curCol) + abs(localMax-h2-1) \n",
    "    else:\n",
    "        localMax = max(hs[newCol+1:curCol]) + 1\n",
    "#         print(localMax,h1,h2)\n",
    "        if(h2>=h1 and localMax<h1):\n",
    "            return abs(localMax-h1) + abs(curCol-newCol) + abs(localMax-h2-1) - empty\n",
    "        if(h2>=h1 or localMax>=h1):\n",
    "            return abs(localMax-h1) + abs(curCol-newCol) + abs(localMax-h2-1)\n",
    "        else:\n",
    "            return abs(h1-localMax) + abs(curCol-newCol) + abs(localMax-h2-1)   \n",
    "        \n",
    "print(costCol(s1.ship , 6, 8))"
   ]
  },
  {
   "cell_type": "code",
   "execution_count": 80,
   "id": "6aa6910d",
   "metadata": {},
   "outputs": [
    {
     "name": "stdout",
     "output_type": "stream",
     "text": [
      "4\n"
     ]
    }
   ],
   "source": [
    "def costCol(array, curCol, newCol, empty=0):\n",
    "    hs = heights(array)\n",
    "    maxHeight = max(hs)\n",
    "    \n",
    "    h1 = stackHeight(array,col=curCol) + 1\n",
    "    h2 = stackHeight(array,col=newCol) + empty\n",
    "    \n",
    "    \n",
    "    if(curCol<newCol):\n",
    "        localMax = max(hs[curCol+1:newCol+1]) + 1\n",
    "#         print(localMax,h1,h2)\n",
    "        if(h2>=h1 or localMax>=h1):\n",
    "            return abs(localMax-h1) + abs(newCol-curCol) + abs(localMax-h2-1)\n",
    "        else:\n",
    "            return abs(h1-localMax) + abs(newCol-curCol) + abs(localMax-h2-1) \n",
    "    else:\n",
    "        localMax = max(hs[newCol+1:curCol+1]) + 1\n",
    "#         print(localMax,h1,h2)\n",
    "        if(h2>=h1 or localMax>=h1):\n",
    "            return abs(localMax-h1) + abs(curCol-newCol) + abs(localMax-h2-1)  \n",
    "        else:\n",
    "            return abs(h1-localMax) + abs(curCol-newCol) + abs(localMax-h2-1)   \n",
    "        \n",
    "print(costCol(s1.ship , 6, 8))"
   ]
  },
  {
   "cell_type": "markdown",
   "id": "81c342bd",
   "metadata": {},
   "source": [
    "### Priority Queue Helper"
   ]
  },
  {
   "cell_type": "code",
   "execution_count": 56,
   "id": "878cec27",
   "metadata": {},
   "outputs": [],
   "source": [
    "#Code Chunk from official python priority queue page\n",
    "from dataclasses import dataclass, field\n",
    "from typing import Any\n",
    "\n",
    "@dataclass(order=True)\n",
    "class PrioritizedItem:\n",
    "    priority: int\n",
    "    item: Any=field(compare=False)"
   ]
  },
  {
   "cell_type": "markdown",
   "id": "87f70204",
   "metadata": {},
   "source": [
    "## Load Unload Problem"
   ]
  },
  {
   "cell_type": "code",
   "execution_count": 57,
   "id": "a8bc15c0",
   "metadata": {},
   "outputs": [],
   "source": [
    "unload = []\n",
    "load = []"
   ]
  },
  {
   "cell_type": "markdown",
   "id": "6ac67e62",
   "metadata": {},
   "source": [
    "#### Load Function"
   ]
  },
  {
   "cell_type": "code",
   "execution_count": 58,
   "id": "c5fd0934",
   "metadata": {},
   "outputs": [],
   "source": [
    "#"
   ]
  },
  {
   "cell_type": "markdown",
   "id": "1d7453c1",
   "metadata": {},
   "source": [
    "#### Unload Function"
   ]
  },
  {
   "cell_type": "code",
   "execution_count": null,
   "id": "4fd20f5a",
   "metadata": {},
   "outputs": [],
   "source": []
  },
  {
   "cell_type": "markdown",
   "id": "16d29710",
   "metadata": {},
   "source": [
    "### Load/Unload Loop"
   ]
  },
  {
   "cell_type": "markdown",
   "id": "10494653",
   "metadata": {},
   "source": [
    "## Balancing Problem"
   ]
  },
  {
   "cell_type": "code",
   "execution_count": 59,
   "id": "757ac4e7",
   "metadata": {},
   "outputs": [],
   "source": [
    "#Function for testing balance\n",
    "def balanceScore(array, cols=ncols):\n",
    "    split=cols/2\n",
    "    left = sum(((array[:,:int(split),2]).flatten()).astype(int))\n",
    "    #print(left)\n",
    "    right = sum(((array[:,int(split):,2]).flatten()).astype(int))\n",
    "    #print(right)\n",
    "    \n",
    "    if(left==right):\n",
    "        return 1\n",
    "    if(left==0 or right==0):\n",
    "        return 0\n",
    "    \n",
    "    return min(left,right)/max(left,right)\n",
    "#balanceScore(testManifestArray)"
   ]
  },
  {
   "cell_type": "code",
   "execution_count": 60,
   "id": "1844ef55",
   "metadata": {},
   "outputs": [],
   "source": [
    "#Function for accepting balance\n",
    "#default threshold of 10% \n",
    "def balanced(state, cols=ncols, thresh=.1):\n",
    "    array = state.state.ship\n",
    "    if(balanceScore(array, cols) > (1-thresh)):\n",
    "        return True\n",
    "    return False\n",
    "#balanced(testManifestArray)"
   ]
  },
  {
   "cell_type": "markdown",
   "id": "cc1cc35e",
   "metadata": {},
   "source": [
    "### Heuristic (Balance)"
   ]
  },
  {
   "cell_type": "code",
   "execution_count": 61,
   "id": "f05264d8",
   "metadata": {},
   "outputs": [
    {
     "name": "stdout",
     "output_type": "stream",
     "text": [
      "\n",
      "[  ]\t[  ]\t[  ]\t[  ]\t[  ]\t[  ]\t[  ]\t[  ]\t[  ]\t[  ]\t[  ]\t[  ]\t\n",
      "[  ]\t[  ]\t[  ]\t[  ]\t[  ]\t[  ]\t[  ]\t[  ]\t[  ]\t[  ]\t[  ]\t[  ]\t\n",
      "[  ]\t[  ]\t[  ]\t[  ]\t[  ]\t[  ]\t[  ]\t[  ]\t[  ]\t[  ]\t[  ]\t[  ]\t\n",
      "[  ]\t[  ]\t[  ]\t[  ]\t[  ]\t[  ]\t[  ]\t[  ]\t[  ]\t[  ]\t[  ]\t[  ]\t\n",
      "[  ]\t[  ]\t[  ]\t[  ]\t[  ]\t[  ]\t[  ]\t[  ]\t[  ]\t[  ]\t[  ]\t[  ]\t\n",
      "Cat\t[  ]\t[  ]\t[  ]\t[  ]\t[  ]\t[  ]\t[  ]\t[  ]\t[  ]\t[  ]\t[  ]\t\n",
      "NAN\tDog\t[  ]\t[  ]\t[  ]\t[  ]\t[  ]\t[  ]\t[  ]\t[  ]\t[  ]\tNAN\t\n",
      "NAN\tNAN\tNAN\tRam\t[  ]\t[  ]\t[  ]\t[  ]\tOwl\tNAN\tNAN\tNAN\tPick Col: 4\n",
      "\n",
      "h: 20\n",
      "# of Moves: 0\n",
      "Cost: 0\n",
      "MovesList: []\n"
     ]
    },
    {
     "data": {
      "text/plain": [
       "2.0"
      ]
     },
     "execution_count": 61,
     "metadata": {},
     "output_type": "execute_result"
    }
   ],
   "source": [
    "def totalWeight(array):\n",
    "    return sum(((array[:,:,2]).flatten()).astype(int))\n",
    "\n",
    "def leftWeight(array, cols=ncols):\n",
    "    split=cols/2\n",
    "    return sum(((array[:,:int(split),2]).flatten()).astype(int))\n",
    "\n",
    "def rightWeight(array, cols=ncols):\n",
    "    split=cols/2\n",
    "    return sum(((array[:,int(split):,2]).flatten()).astype(int))\n",
    "\n",
    "def removeEmpty(array):\n",
    "    filterArray = ((array[:,:,3] != 'UNUSED') == (array[:,:,3] != 'NAN'))\n",
    "    return (array[filterArray])\n",
    "\n",
    "def heavySide(state, cols=ncols):\n",
    "    array = state.state.ship\n",
    "    left = leftWeight(array,cols)\n",
    "    right = rightWeight(array,cols)\n",
    "    if(left < right):\n",
    "        return 1\n",
    "    return 0\n",
    "\n",
    "def balanceHeuristicDroped(state, cols=ncols):\n",
    "    #Given state, how balanced is it and what potential does it have?\n",
    "    \n",
    "    array = state.state.ship\n",
    "    \n",
    "    balanceMass = totalWeight(array)/2\n",
    "    split = cols/2\n",
    "    \n",
    "    #which side is heavier\n",
    "    side = heavySide(state)\n",
    "        \n",
    "    left = leftWeight(array,cols)\n",
    "    right = rightWeight(array,cols)\n",
    "    \n",
    "    deficit = abs(balanceMass - max(left, right))\n",
    "\n",
    "    if(side==0):\n",
    "        weights = removeEmpty((array[:,:int(split)]))\n",
    "    else:\n",
    "        weights = removeEmpty((array[:,int(split):]))\n",
    "    \n",
    "    #list of cells sorted by weight\n",
    "    sortedList = sorted(weights, key=lambda x: x[2], reverse=True)\n",
    "    \n",
    "    newDef = deficit\n",
    "    h = 0\n",
    "    for i in sortedList:\n",
    "        if (newDef - int(i[2]) > 0):\n",
    "            newDef -= int(i[2])\n",
    "            h+=1\n",
    "            \n",
    "    #h is amount of containers needed to move to get close to balance\n",
    "    return h, sortedList\n",
    "\n",
    "\n",
    "def balanceHeuristicPicked(state, colPick=-1, cols=ncols):\n",
    "    #Picking from col pickCol, how good is this state?\n",
    "    #what is the dist needed to drop into col on other side\n",
    "    \n",
    "    if(state.colPick >= 0):\n",
    "        colPick = state.colPick\n",
    "    array = state.state.ship\n",
    "    \n",
    "    side = heavySide(state)\n",
    "    \n",
    "    heightsArray = np.array(heights(array))\n",
    "    \n",
    "    #check if picking from heavy side    \n",
    "    if(side==0 and colPick<cols/2):\n",
    "        if( (heightsArray<nrows-1).all() ):\n",
    "#             print(\"side 0, moving to\",cols/2)\n",
    "            return cols/2 - colPick\n",
    "\n",
    "        #there are full cols\n",
    "        print(\"left\")\n",
    "        for i in range(cols/2, cols):\n",
    "            if(heightsArray[i] < nrows-1):\n",
    "                return i - colPick\n",
    "    \n",
    "    if(side==1 and colPick>=cols/2):\n",
    "        if( (heightsArray<nrows-1).all() ):\n",
    "            return colPick - ((cols/2)-1)\n",
    "        \n",
    "        #there are full cols\n",
    "        print(\"right\")\n",
    "        for i in range((cols/2)-1, -1, -1):\n",
    "            if(heightsArray[i] < nrows-1):\n",
    "                return colPick-i\n",
    "            \n",
    "    #pulling from side that is lighter\n",
    "    \n",
    "    #h is slightly worse than worst case moving from heavier side\n",
    "    return 1 + cols/2\n",
    "\n",
    "wrapTest = StateWrapper(State(testManifestArray), colPick= 4)\n",
    "# wrapTest.movesList.append([[currentState.state.ship[stackHeight(currentState.state.ship,col=currentState.colPick), currentState.colPick], currentState.colPick],[stackHeight(newDropState.state.ship,col=newCol),newCol]])\n",
    "\n",
    "print(wrapTest)\n",
    "\n",
    "\n",
    "h, sort = balanceHeuristicDroped(wrapTest)\n",
    "balanceHeuristicPicked(wrapTest)\n"
   ]
  },
  {
   "cell_type": "code",
   "execution_count": null,
   "id": "8cb6ed7d",
   "metadata": {},
   "outputs": [],
   "source": []
  },
  {
   "cell_type": "markdown",
   "id": "7430be2f",
   "metadata": {},
   "source": [
    "### Branching Loop"
   ]
  },
  {
   "cell_type": "code",
   "execution_count": 62,
   "id": "03bbb15d",
   "metadata": {},
   "outputs": [
    {
     "name": "stdout",
     "output_type": "stream",
     "text": [
      "\n",
      "\n",
      "Pick State ['01' '04' '00120' 'Ram'] with h = 3.0\n",
      "\t  Droping container at 0 for h = 1\n",
      "\t  Droping container at 1 for h = 1\n",
      "\t  Droping container at 2 for h = 1\n",
      "\t  Droping container at 4 for h = 1\n",
      "\t  Droping container at 5 for h = 1\n",
      "\t  Droping container at 6 for h = 1\n",
      "\t  Droping container at 7 for h = 1\n",
      "\t  Droping container at 8 for h = 1\n",
      "\t  Droping container at 9 for h = 1\n",
      "\t  Droping container at 10 for h = 1\n",
      "\t  Droping container at 11 for h = 1\n",
      "\n",
      "\n",
      "Pick State ['02' '02' '00050' 'Dog'] with h = 5.0\n",
      "\t  Droping container at 0 for h = 1\n",
      "\t  Droping container at 2 for h = 1\n",
      "\t  Droping container at 3 for h = 1\n",
      "\t  Droping container at 4 for h = 1\n",
      "\t  Droping container at 5 for h = 1\n",
      "\t  Droping container at 6 for h = 1\n",
      "\t  Droping container at 7 for h = 1\n",
      "\t  Droping container at 8 for h = 1\n",
      "\t  Droping container at 9 for h = 1\n",
      "\t  Droping container at 10 for h = 1\n",
      "\t  Droping container at 11 for h = 1\n",
      "\n",
      "\n",
      "Pick State ['03' '01' '00040' 'Cat'] with h = 6.0\n",
      "\t  Droping container at 1 for h = 1\n",
      "\t  Droping container at 2 for h = 1\n",
      "\t  Droping container at 3 for h = 1\n",
      "\t  Droping container at 4 for h = 1\n",
      "\t  Droping container at 5 for h = 1\n",
      "\t  Droping container at 6 for h = 1\n",
      "\t  Droping container at 7 for h = 1\n",
      "\t  Droping container at 8 for h = 1\n",
      "\t  Droping container at 9 for h = 1\n",
      "\t  Droping container at 10 for h = 1\n",
      "\t  Droping container at 11 for h = 1\n",
      "\n",
      "\n",
      "Pick State ['01' '09' '00035' 'Owl'] with h = 7.0\n",
      "\t  Droping container at 0 for h = 1\n",
      "\t  Droping container at 1 for h = 1\n",
      "\t  Droping container at 2 for h = 1\n",
      "\t  Droping container at 3 for h = 1\n",
      "\t  Droping container at 4 for h = 1\n",
      "\t  Droping container at 5 for h = 1\n",
      "\t  Droping container at 6 for h = 1\n",
      "\t  Droping container at 7 for h = 1\n",
      "\t  Droping container at 9 for h = 1\n",
      "\t  Droping container at 10 for h = 1\n",
      "\t  Droping container at 11 for h = 1\n",
      "extra 1\n",
      "extra 3\n",
      "extra 5\n",
      "extra 6\n",
      "extra 7\n",
      "extra 8\n",
      "extra 9\n",
      "extra 9\n",
      "extra 10\n",
      "extra 11\n",
      "extra 11\n",
      "\n",
      "\n",
      "Pick State ['02' '02' '00050' 'Dog'] with h = 5.0\n",
      "\t  Droping container at 0 for h = 1\n",
      "\t  Droping container at 2 for h = 1\n",
      "\t  Droping container at 3 for h = 1\n",
      "\t  Droping container at 4 for h = 1\n",
      "\t  Droping container at 5 for h = 1\n",
      "\t  Droping container at 6 for h = 1\n",
      "\t  Droping container at 7 for h = 1\n",
      "\t  Droping container at 8 for h = 1\n",
      "\t  Droping container at 9 for h = 1\n",
      "\t  Droping container at 10 for h = 1\n",
      "\t  Droping container at 11 for h = 1\n",
      "\n",
      "\n",
      "Pick State ['01' '09' '00035' 'Owl'] with h = 7.0\n",
      "\t  Droping container at 0 for h = 1\n",
      "\t  Droping container at 1 for h = 1\n",
      "\t  Droping container at 2 for h = 1\n",
      "\t  Droping container at 3 for h = 1\n",
      "\t  Droping container at 4 for h = 1\n",
      "\t  Droping container at 5 for h = 1\n",
      "\t  Droping container at 6 for h = 1\n",
      "\t  Droping container at 7 for h = 1\n",
      "\t  Droping container at 9 for h = 1\n",
      "\t  Droping container at 10 for h = 1\n",
      "\t  Droping container at 11 for h = 1\n",
      "extra 4\n",
      "extra 2\n",
      "extra 1\n",
      "extra 2\n",
      "extra 3\n",
      "extra 4\n",
      "extra 5\n",
      "extra 6\n",
      "extra 7\n",
      "extra 8\n",
      "extra 10\n",
      "\n",
      "\n",
      "Pick State ['02' '02' '00050' 'Dog'] with h = 5.0\n",
      "\t  Droping container at 0 for h = 1\n",
      "\t  Droping container at 2 for h = 1\n",
      "\t  Droping container at 3 for h = 1\n",
      "\t  Droping container at 4 for h = 1\n",
      "\t  Droping container at 5 for h = 1\n",
      "\t  Droping container at 6 for h = 1\n",
      "\t  Droping container at 7 for h = 1\n",
      "\t  Droping container at 8 for h = 1\n",
      "\t  Droping container at 9 for h = 1\n",
      "\t  Droping container at 10 for h = 1\n",
      "\t  Droping container at 11 for h = 1\n",
      "\n",
      "\n",
      "Pick State ['03' '01' '00040' 'Cat'] with h = 6.0\n",
      "\t  Droping container at 1 for h = 1\n",
      "\t  Droping container at 2 for h = 1\n",
      "\t  Droping container at 3 for h = 1\n",
      "\t  Droping container at 4 for h = 1\n",
      "\t  Droping container at 5 for h = 1\n",
      "\t  Droping container at 6 for h = 1\n",
      "\t  Droping container at 7 for h = 1\n",
      "\t  Droping container at 8 for h = 1\n",
      "\t  Droping container at 9 for h = 1\n",
      "\t  Droping container at 10 for h = 1\n",
      "\t  Droping container at 11 for h = 1\n",
      "\n",
      "\n",
      "Pick State ['01' '09' '00035' 'Owl'] with h = 7.0\n",
      "\t  Droping container at 0 for h = 1\n",
      "\t  Droping container at 1 for h = 1\n",
      "\t  Droping container at 2 for h = 1\n",
      "\t  Droping container at 3 for h = 1\n",
      "\t  Droping container at 4 for h = 1\n",
      "\t  Droping container at 5 for h = 1\n",
      "\t  Droping container at 6 for h = 1\n",
      "\t  Droping container at 7 for h = 1\n",
      "\t  Droping container at 9 for h = 1\n",
      "\t  Droping container at 10 for h = 1\n",
      "\t  Droping container at 11 for h = 1\n",
      "extra 10\n",
      "extra 8\n",
      "extra 6\n",
      "extra 6\n",
      "extra 5\n",
      "extra 4\n",
      "extra 3\n",
      "extra 2\n",
      "extra 3\n",
      "extra 4\n",
      "extra 6\n",
      "\n",
      "\n",
      "Pick State ['01' '09' '00035' 'Owl'] with h = 3.0\n",
      "[BALANCED]Droping container at 0 for h = 0\n",
      "[BALANCED]Droping container at 1 for h = 0\n",
      "[BALANCED]Droping container at 2 for h = 0\n",
      "[BALANCED]Droping container at 3 for h = 0\n",
      "[BALANCED]Droping container at 4 for h = 0\n",
      "[BALANCED]Droping container at 5 for h = 0\n",
      "\t  Droping container at 6 for h = 0\n",
      "\t  Droping container at 7 for h = 0\n",
      "\t  Droping container at 9 for h = 0\n",
      "\t  Droping container at 10 for h = 0\n",
      "\t  Droping container at 11 for h = 0\n",
      "\n",
      "\n",
      "Pick State ['02' '02' '00050' 'Dog'] with h = 7.0\n",
      "\t  Droping container at 0 for h = 0\n",
      "\t  Droping container at 2 for h = 0\n",
      "\t  Droping container at 3 for h = 0\n",
      "\t  Droping container at 4 for h = 0\n",
      "\t  Droping container at 5 for h = 0\n",
      "\t  Droping container at 6 for h = 0\n",
      "\t  Droping container at 7 for h = 0\n",
      "\t  Droping container at 8 for h = 0\n",
      "\t  Droping container at 9 for h = 0\n",
      "\t  Droping container at 10 for h = 0\n",
      "\t  Droping container at 11 for h = 0\n",
      "\n",
      "\n",
      "Pick State ['03' '01' '00040' 'Cat'] with h = 7.0\n",
      "\t  Droping container at 1 for h = 0\n",
      "\t  Droping container at 2 for h = 0\n",
      "\t  Droping container at 3 for h = 0\n",
      "\t  Droping container at 4 for h = 0\n",
      "\t  Droping container at 5 for h = 0\n",
      "\t  Droping container at 6 for h = 0\n",
      "\t  Droping container at 7 for h = 0\n",
      "\t  Droping container at 8 for h = 0\n",
      "\t  Droping container at 9 for h = 0\n",
      "\t  Droping container at 10 for h = 0\n",
      "\t  Droping container at 11 for h = 0\n"
     ]
    }
   ],
   "source": [
    "#when tracking moves, compensate coordinates +1 for dropoff location to match pick up\n",
    "    #**coordinates start at 1, not 0**\n",
    "comp = 1\n",
    "\n",
    "#initial state:\n",
    "initialState = StateWrapper(State(testManifestArray))\n",
    "\n",
    "#duplicate states checker\n",
    "duplicateState = []\n",
    "\n",
    "#legal final states\n",
    "finalState = []\n",
    "\n",
    "\n",
    "#Create PriorityQueue for queing states\n",
    "queueP = PriorityQueue()\n",
    "queueD = PriorityQueue()\n",
    "\n",
    "#queue.put((0,initialState))\n",
    "\n",
    "#Choose which container to move\n",
    "    #creating and adding those states\n",
    "    \n",
    "\n",
    "queueD.put(PrioritizedItem(1, initialState))\n",
    "            \n",
    "depth = 0\n",
    "\n",
    "#Choose where to move the container\n",
    "    #creating and adding those states\n",
    "while True:\n",
    "    \n",
    "    if not queueD.empty():\n",
    "        currentState=queueD.get().item\n",
    "        if(balanced(currentState)):\n",
    "            print(\"Already Balanced\")\n",
    "            finalState.append(currentState)\n",
    "            break;\n",
    "    #Choose which container to move\n",
    "        #creating and adding those states\n",
    "        for w in range(0,ncols):\n",
    "            dropped=-1\n",
    "            if len(currentState.movesList) > 0:\n",
    "                    #cost of moving crane from dropped to new pickup\n",
    "                    dropped = currentState.movesList[-1][1][1]-1\n",
    "            \n",
    "            if(w!=dropped):\n",
    "                extraCost=0\n",
    "                if len(currentState.movesList) > 0:\n",
    "                    extraCost = costCol(currentState.state.ship,currentState.movesList[-1][1][1]-1,w,empty=1)\n",
    "                    print(\"extra\",extraCost)\n",
    "\n",
    "                newPickState = StateWrapper(currentState.state, colPick=w, h=balanceHeuristicPicked(currentState, colPick=w), moves=currentState.moves, cost=currentState.cost + extraCost, movesList=currentState.movesList.copy())\n",
    "\n",
    "                if(pickable(newPickState.state.ship, w)):\n",
    "                    queueP.put(PrioritizedItem(newPickState.h,newPickState))\n",
    "                \n",
    "    \n",
    "    while not queueP.empty():\n",
    "        currentState = queueP.get().item\n",
    "        print(\"\\n\\nPick State\", currentState.state.ship[stackHeight(currentState.state.ship,col=currentState.colPick), currentState.colPick], \"with h =\",currentState.h)\n",
    "        if(balanced(currentState)):\n",
    "            print(\"Already Balanced\")\n",
    "            finalState.append(currentState)\n",
    "            break;\n",
    "        #Create new branch\n",
    "        for newCol in range(0,ncols):\n",
    "            #try to place container in each col\n",
    "            if(stackHeight(currentState.state.ship,currentState.colPick)<nrows and newCol!=currentState.colPick):\n",
    "                #does not allow if overflow or where it already was\n",
    "                dropH, sortedList = balanceHeuristicDroped(state=currentState)\n",
    "                newDropState = StateWrapper(State(moveContainer(currentState.state.ship,currentState.colPick,newCol)), h=dropH, moves=currentState.moves+1, cost=currentState.cost + costCol(currentState.state.ship,curCol=currentState.colPick,newCol=newCol), movesList=currentState.movesList.copy())\n",
    "                \n",
    "                newDropState.movesList.append([[currentState.state.ship[stackHeight(currentState.state.ship,col=currentState.colPick), currentState.colPick].tolist()],[stackHeight(newDropState.state.ship,col=newCol)+comp,newCol+comp]])\n",
    "                \n",
    "                if(balanced(newDropState)):\n",
    "                    print(\"[BALANCED]Droping container at\", newCol, \"for h =\", newDropState.h)\n",
    "                    finalState.append(newDropState)\n",
    "#                     break;\n",
    "                elif((newDropState not in duplicateState)):\n",
    "                    duplicateState.append(newDropState.state)\n",
    "                #add h of currentState (parent) and new Drop\n",
    "                    queueD.put(PrioritizedItem(currentState.h + newDropState.h,newDropState))\n",
    "                    print(\"\\t  Droping container at\", newCol, \"for h =\", newDropState.h)\n",
    "    depth+=1\n",
    "\n",
    "    if (depth>=20 or len(finalState)>3):\n",
    "        break"
   ]
  },
  {
   "cell_type": "code",
   "execution_count": 63,
   "id": "c5f7fcb2",
   "metadata": {},
   "outputs": [],
   "source": [
    "# for x in duplicateState:\n",
    "#       print(x,\"\\n\")"
   ]
  },
  {
   "cell_type": "code",
   "execution_count": 64,
   "id": "208b523c",
   "metadata": {},
   "outputs": [
    {
     "name": "stdout",
     "output_type": "stream",
     "text": [
      "\n",
      "[  ]\t[  ]\t[  ]\t[  ]\t[  ]\t[  ]\t[  ]\t[  ]\t[  ]\t[  ]\t[  ]\t[  ]\t\n",
      "[  ]\t[  ]\t[  ]\t[  ]\t[  ]\t[  ]\t[  ]\t[  ]\t[  ]\t[  ]\t[  ]\t[  ]\t\n",
      "[  ]\t[  ]\t[  ]\t[  ]\t[  ]\t[  ]\t[  ]\t[  ]\t[  ]\t[  ]\t[  ]\t[  ]\t\n",
      "[  ]\t[  ]\t[  ]\t[  ]\t[  ]\t[  ]\t[  ]\t[  ]\t[  ]\t[  ]\t[  ]\t[  ]\t\n",
      "Owl\t[  ]\t[  ]\t[  ]\t[  ]\t[  ]\t[  ]\t[  ]\t[  ]\t[  ]\t[  ]\t[  ]\t\n",
      "Cat\t[  ]\t[  ]\t[  ]\t[  ]\t[  ]\t[  ]\t[  ]\t[  ]\t[  ]\t[  ]\t[  ]\t\n",
      "NAN\tDog\t[  ]\t[  ]\t[  ]\t[  ]\t[  ]\t[  ]\t[  ]\t[  ]\t[  ]\tNAN\t\n",
      "NAN\tNAN\tNAN\t[  ]\t[  ]\t[  ]\t[  ]\tRam\t[  ]\tNAN\tNAN\tNAN\t\n",
      "\n",
      "h: 0\n",
      "# of Moves: 2\n",
      "Cost: 17\n",
      "MovesList: [[[['01', '04', '00120', 'Ram']], [1, 8]], [[['01', '09', '00035', 'Owl']], [4, 1]]] \n",
      "\n",
      "\n",
      "[  ]\t[  ]\t[  ]\t[  ]\t[  ]\t[  ]\t[  ]\t[  ]\t[  ]\t[  ]\t[  ]\t[  ]\t\n",
      "[  ]\t[  ]\t[  ]\t[  ]\t[  ]\t[  ]\t[  ]\t[  ]\t[  ]\t[  ]\t[  ]\t[  ]\t\n",
      "[  ]\t[  ]\t[  ]\t[  ]\t[  ]\t[  ]\t[  ]\t[  ]\t[  ]\t[  ]\t[  ]\t[  ]\t\n",
      "[  ]\t[  ]\t[  ]\t[  ]\t[  ]\t[  ]\t[  ]\t[  ]\t[  ]\t[  ]\t[  ]\t[  ]\t\n",
      "[  ]\t[  ]\t[  ]\t[  ]\t[  ]\t[  ]\t[  ]\t[  ]\t[  ]\t[  ]\t[  ]\t[  ]\t\n",
      "Cat\tOwl\t[  ]\t[  ]\t[  ]\t[  ]\t[  ]\t[  ]\t[  ]\t[  ]\t[  ]\t[  ]\t\n",
      "NAN\tDog\t[  ]\t[  ]\t[  ]\t[  ]\t[  ]\t[  ]\t[  ]\t[  ]\t[  ]\tNAN\t\n",
      "NAN\tNAN\tNAN\t[  ]\t[  ]\t[  ]\t[  ]\tRam\t[  ]\tNAN\tNAN\tNAN\t\n",
      "\n",
      "h: 0\n",
      "# of Moves: 2\n",
      "Cost: 15\n",
      "MovesList: [[[['01', '04', '00120', 'Ram']], [1, 8]], [[['01', '09', '00035', 'Owl']], [3, 2]]] \n",
      "\n",
      "\n",
      "[  ]\t[  ]\t[  ]\t[  ]\t[  ]\t[  ]\t[  ]\t[  ]\t[  ]\t[  ]\t[  ]\t[  ]\t\n",
      "[  ]\t[  ]\t[  ]\t[  ]\t[  ]\t[  ]\t[  ]\t[  ]\t[  ]\t[  ]\t[  ]\t[  ]\t\n",
      "[  ]\t[  ]\t[  ]\t[  ]\t[  ]\t[  ]\t[  ]\t[  ]\t[  ]\t[  ]\t[  ]\t[  ]\t\n",
      "[  ]\t[  ]\t[  ]\t[  ]\t[  ]\t[  ]\t[  ]\t[  ]\t[  ]\t[  ]\t[  ]\t[  ]\t\n",
      "[  ]\t[  ]\t[  ]\t[  ]\t[  ]\t[  ]\t[  ]\t[  ]\t[  ]\t[  ]\t[  ]\t[  ]\t\n",
      "Cat\t[  ]\t[  ]\t[  ]\t[  ]\t[  ]\t[  ]\t[  ]\t[  ]\t[  ]\t[  ]\t[  ]\t\n",
      "NAN\tDog\tOwl\t[  ]\t[  ]\t[  ]\t[  ]\t[  ]\t[  ]\t[  ]\t[  ]\tNAN\t\n",
      "NAN\tNAN\tNAN\t[  ]\t[  ]\t[  ]\t[  ]\tRam\t[  ]\tNAN\tNAN\tNAN\t\n",
      "\n",
      "h: 0\n",
      "# of Moves: 2\n",
      "Cost: 13\n",
      "MovesList: [[[['01', '04', '00120', 'Ram']], [1, 8]], [[['01', '09', '00035', 'Owl']], [2, 3]]] \n",
      "\n",
      "\n",
      "[  ]\t[  ]\t[  ]\t[  ]\t[  ]\t[  ]\t[  ]\t[  ]\t[  ]\t[  ]\t[  ]\t[  ]\t\n",
      "[  ]\t[  ]\t[  ]\t[  ]\t[  ]\t[  ]\t[  ]\t[  ]\t[  ]\t[  ]\t[  ]\t[  ]\t\n",
      "[  ]\t[  ]\t[  ]\t[  ]\t[  ]\t[  ]\t[  ]\t[  ]\t[  ]\t[  ]\t[  ]\t[  ]\t\n",
      "[  ]\t[  ]\t[  ]\t[  ]\t[  ]\t[  ]\t[  ]\t[  ]\t[  ]\t[  ]\t[  ]\t[  ]\t\n",
      "[  ]\t[  ]\t[  ]\t[  ]\t[  ]\t[  ]\t[  ]\t[  ]\t[  ]\t[  ]\t[  ]\t[  ]\t\n",
      "Cat\t[  ]\t[  ]\t[  ]\t[  ]\t[  ]\t[  ]\t[  ]\t[  ]\t[  ]\t[  ]\t[  ]\t\n",
      "NAN\tDog\t[  ]\t[  ]\t[  ]\t[  ]\t[  ]\t[  ]\t[  ]\t[  ]\t[  ]\tNAN\t\n",
      "NAN\tNAN\tNAN\tOwl\t[  ]\t[  ]\t[  ]\tRam\t[  ]\tNAN\tNAN\tNAN\t\n",
      "\n",
      "h: 0\n",
      "# of Moves: 2\n",
      "Cost: 13\n",
      "MovesList: [[[['01', '04', '00120', 'Ram']], [1, 8]], [[['01', '09', '00035', 'Owl']], [1, 4]]] \n",
      "\n",
      "\n",
      "[  ]\t[  ]\t[  ]\t[  ]\t[  ]\t[  ]\t[  ]\t[  ]\t[  ]\t[  ]\t[  ]\t[  ]\t\n",
      "[  ]\t[  ]\t[  ]\t[  ]\t[  ]\t[  ]\t[  ]\t[  ]\t[  ]\t[  ]\t[  ]\t[  ]\t\n",
      "[  ]\t[  ]\t[  ]\t[  ]\t[  ]\t[  ]\t[  ]\t[  ]\t[  ]\t[  ]\t[  ]\t[  ]\t\n",
      "[  ]\t[  ]\t[  ]\t[  ]\t[  ]\t[  ]\t[  ]\t[  ]\t[  ]\t[  ]\t[  ]\t[  ]\t\n",
      "[  ]\t[  ]\t[  ]\t[  ]\t[  ]\t[  ]\t[  ]\t[  ]\t[  ]\t[  ]\t[  ]\t[  ]\t\n",
      "Cat\t[  ]\t[  ]\t[  ]\t[  ]\t[  ]\t[  ]\t[  ]\t[  ]\t[  ]\t[  ]\t[  ]\t\n",
      "NAN\tDog\t[  ]\t[  ]\t[  ]\t[  ]\t[  ]\t[  ]\t[  ]\t[  ]\t[  ]\tNAN\t\n",
      "NAN\tNAN\tNAN\t[  ]\tOwl\t[  ]\t[  ]\tRam\t[  ]\tNAN\tNAN\tNAN\t\n",
      "\n",
      "h: 0\n",
      "# of Moves: 2\n",
      "Cost: 12\n",
      "MovesList: [[[['01', '04', '00120', 'Ram']], [1, 8]], [[['01', '09', '00035', 'Owl']], [1, 5]]] \n",
      "\n",
      "\n",
      "[  ]\t[  ]\t[  ]\t[  ]\t[  ]\t[  ]\t[  ]\t[  ]\t[  ]\t[  ]\t[  ]\t[  ]\t\n",
      "[  ]\t[  ]\t[  ]\t[  ]\t[  ]\t[  ]\t[  ]\t[  ]\t[  ]\t[  ]\t[  ]\t[  ]\t\n",
      "[  ]\t[  ]\t[  ]\t[  ]\t[  ]\t[  ]\t[  ]\t[  ]\t[  ]\t[  ]\t[  ]\t[  ]\t\n",
      "[  ]\t[  ]\t[  ]\t[  ]\t[  ]\t[  ]\t[  ]\t[  ]\t[  ]\t[  ]\t[  ]\t[  ]\t\n",
      "[  ]\t[  ]\t[  ]\t[  ]\t[  ]\t[  ]\t[  ]\t[  ]\t[  ]\t[  ]\t[  ]\t[  ]\t\n",
      "Cat\t[  ]\t[  ]\t[  ]\t[  ]\t[  ]\t[  ]\t[  ]\t[  ]\t[  ]\t[  ]\t[  ]\t\n",
      "NAN\tDog\t[  ]\t[  ]\t[  ]\t[  ]\t[  ]\t[  ]\t[  ]\t[  ]\t[  ]\tNAN\t\n",
      "NAN\tNAN\tNAN\t[  ]\t[  ]\tOwl\t[  ]\tRam\t[  ]\tNAN\tNAN\tNAN\t\n",
      "\n",
      "h: 0\n",
      "# of Moves: 2\n",
      "Cost: 11\n",
      "MovesList: [[[['01', '04', '00120', 'Ram']], [1, 8]], [[['01', '09', '00035', 'Owl']], [1, 6]]] \n",
      "\n"
     ]
    }
   ],
   "source": [
    "for x in finalState:\n",
    "    print(x,\"\\n\")"
   ]
  },
  {
   "cell_type": "code",
   "execution_count": 65,
   "id": "1af13b6e",
   "metadata": {},
   "outputs": [
    {
     "name": "stdout",
     "output_type": "stream",
     "text": [
      "[initial] \n",
      "[  ]\t[  ]\t[  ]\t[  ]\t[  ]\t[  ]\t[  ]\t[  ]\t[  ]\t[  ]\t[  ]\t[  ]\t\n",
      "[  ]\t[  ]\t[  ]\t[  ]\t[  ]\t[  ]\t[  ]\t[  ]\t[  ]\t[  ]\t[  ]\t[  ]\t\n",
      "[  ]\t[  ]\t[  ]\t[  ]\t[  ]\t[  ]\t[  ]\t[  ]\t[  ]\t[  ]\t[  ]\t[  ]\t\n",
      "[  ]\t[  ]\t[  ]\t[  ]\t[  ]\t[  ]\t[  ]\t[  ]\t[  ]\t[  ]\t[  ]\t[  ]\t\n",
      "[  ]\t[  ]\t[  ]\t[  ]\t[  ]\t[  ]\t[  ]\t[  ]\t[  ]\t[  ]\t[  ]\t[  ]\t\n",
      "Cat\t[  ]\t[  ]\t[  ]\t[  ]\t[  ]\t[  ]\t[  ]\t[  ]\t[  ]\t[  ]\t[  ]\t\n",
      "NAN\tDog\t[  ]\t[  ]\t[  ]\t[  ]\t[  ]\t[  ]\t[  ]\t[  ]\t[  ]\tNAN\t\n",
      "NAN\tNAN\tNAN\tRam\t[  ]\t[  ]\t[  ]\t[  ]\tOwl\tNAN\tNAN\tNAN\t\n",
      "\n",
      "h: 20\n",
      "# of Moves: 0\n",
      "Cost: 0\n",
      "MovesList: [] \n",
      "\n",
      "\t\t\t\t||\n",
      "\t\t\t\t\\/\n",
      "\n",
      "\n",
      "[  ]\t[  ]\t[  ]\t[  ]\t[  ]\t[  ]\t[  ]\t[  ]\t[  ]\t[  ]\t[  ]\t[  ]\t\n",
      "[  ]\t[  ]\t[  ]\t[  ]\t[  ]\t[  ]\t[  ]\t[  ]\t[  ]\t[  ]\t[  ]\t[  ]\t\n",
      "[  ]\t[  ]\t[  ]\t[  ]\t[  ]\t[  ]\t[  ]\t[  ]\t[  ]\t[  ]\t[  ]\t[  ]\t\n",
      "[  ]\t[  ]\t[  ]\t[  ]\t[  ]\t[  ]\t[  ]\t[  ]\t[  ]\t[  ]\t[  ]\t[  ]\t\n",
      "[  ]\t[  ]\t[  ]\t[  ]\t[  ]\t[  ]\t[  ]\t[  ]\t[  ]\t[  ]\t[  ]\t[  ]\t\n",
      "Cat\t[  ]\t[  ]\t[  ]\t[  ]\t[  ]\t[  ]\t[  ]\t[  ]\t[  ]\t[  ]\t[  ]\t\n",
      "NAN\tDog\t[  ]\t[  ]\t[  ]\t[  ]\t[  ]\t[  ]\t[  ]\t[  ]\t[  ]\tNAN\t\n",
      "NAN\tNAN\tNAN\t[  ]\t[  ]\tOwl\t[  ]\tRam\t[  ]\tNAN\tNAN\tNAN\t\n",
      "\n",
      "h: 0\n",
      "# of Moves: 2\n",
      "Cost: 11\n",
      "MovesList: [[[['01', '04', '00120', 'Ram']], [1, 8]], [[['01', '09', '00035', 'Owl']], [1, 6]]]\n",
      "Best state's balance 0.96\n"
     ]
    }
   ],
   "source": [
    "print(\"[initial]\",initialState,\"\\n\\n\\t\\t\\t\\t||\\n\\t\\t\\t\\t\\/\\n\")\n",
    "best = sorted(finalState,key=lambda x: x.cost)[0]\n",
    "print(best)\n",
    "print(\"Best state's balance\",balanceScore(best.state.ship))"
   ]
  },
  {
   "cell_type": "code",
   "execution_count": 66,
   "id": "fe352bf3",
   "metadata": {},
   "outputs": [
    {
     "data": {
      "text/plain": [
       "6"
      ]
     },
     "execution_count": 66,
     "metadata": {},
     "output_type": "execute_result"
    }
   ],
   "source": [
    "best.movesList[-1][1][1]"
   ]
  },
  {
   "cell_type": "code",
   "execution_count": null,
   "id": "42fa68fe",
   "metadata": {},
   "outputs": [],
   "source": []
  }
 ],
 "metadata": {
  "kernelspec": {
   "display_name": "Python 3 (ipykernel)",
   "language": "python",
   "name": "python3"
  },
  "language_info": {
   "codemirror_mode": {
    "name": "ipython",
    "version": 3
   },
   "file_extension": ".py",
   "mimetype": "text/x-python",
   "name": "python",
   "nbconvert_exporter": "python",
   "pygments_lexer": "ipython3",
   "version": "3.9.12"
  }
 },
 "nbformat": 4,
 "nbformat_minor": 5
}
