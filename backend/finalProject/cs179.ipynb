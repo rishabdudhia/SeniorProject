{
  "metadata": {
    "language_info": {
      "codemirror_mode": {
        "name": "python",
        "version": 3
      },
      "file_extension": ".py",
      "mimetype": "text/x-python",
      "name": "python",
      "nbconvert_exporter": "python",
      "pygments_lexer": "ipython3",
      "version": "3.8"
    },
    "kernelspec": {
      "name": "python",
      "display_name": "Python (Pyodide)",
      "language": "python"
    }
  },
  "nbformat_minor": 4,
  "nbformat": 4,
  "cells": [
    {
      "cell_type": "markdown",
      "source": "# CS179 Container Sorting Project",
      "metadata": {}
    },
    {
      "cell_type": "markdown",
      "source": "## Initializing Libraries",
      "metadata": {}
    },
    {
      "cell_type": "markdown",
      "source": "## Loading in Test Data",
      "metadata": {}
    },
    {
      "cell_type": "markdown",
      "source": "## Problems:",
      "metadata": {}
    },
    {
      "cell_type": "markdown",
      "source": "### Sorting",
      "metadata": {}
    },
    {
      "cell_type": "markdown",
      "source": "### Balancing",
      "metadata": {}
    },
    {
      "cell_type": "markdown",
      "source": "# Output to Front",
      "metadata": {}
    },
    {
      "cell_type": "code",
      "source": "",
      "metadata": {},
      "execution_count": null,
      "outputs": []
    }
  ]
}